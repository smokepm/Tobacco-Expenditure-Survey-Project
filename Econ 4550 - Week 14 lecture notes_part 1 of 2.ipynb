{
 "cells": [
  {
   "cell_type": "markdown",
   "id": "e0a4a03d",
   "metadata": {},
   "source": [
    "# 1. Introduction: how to consolidate and read the Consumer Expenditure Survey microdata\n",
    "\n",
    "This is the first set of notes on using Consumer Expenditure Survey (CES) microdata. In these notes, we learn how to \"wrangle\" the data and how to use the codebook to learn about our sample. Our reference point is the Acharya and Dhakal study, which is based on CES data from 2017-2020: \n",
    "\n",
    "Binod Acharya and Chandra Dhakal, \"Risky health behaviors during the COVID-19 pandemic: Evidence from the expenditures on alcohol, non-alcoholic beverages, and tobacco products\", *PLoS ONE* 17(5): e0268068. "
   ]
  },
  {
   "cell_type": "code",
   "execution_count": 1,
   "id": "261b505c",
   "metadata": {},
   "outputs": [],
   "source": [
    "import pandas as pd"
   ]
  },
  {
   "cell_type": "markdown",
   "id": "9949998a",
   "metadata": {},
   "source": [
    "## 1.1: Imagining the workflow\n",
    "\n",
    "Ideally, we would simulate the below steps, but unfortunately, they are somewhat outside of the scope of this course. If you can imagine for a minute: you download the PUMD files from https://urldefense.com/v3/__https://www.bls.gov/cex/pumd_data.htm__;!!OM2WEIN1DMg!B26AzeRoKQpL6OnwRCxSpET_wR25bCmcrztZn54ePCBHapkfGRSE537pHB_XxqHJAtLFxFgQQ4QaQdmbCMee6TBsMIPADECX9ldj$ [bls[.]gov]. You download CSV files for 2017 and extract them to the same folder where you have this Jupyter Notebook. From there, you could execute the following five code blocks to consolidate the data into an annual sample from 2017:"
   ]
  },
  {
   "cell_type": "code",
   "execution_count": null,
   "id": "515b7a67",
   "metadata": {},
   "outputs": [],
   "source": [
    "df_171=pd.read_csv('diary17\\\\diary17\\\\fmld171.csv')\n",
    "df_171['quarter']=1\n",
    "df_171['year']=2017"
   ]
  },
  {
   "cell_type": "code",
   "execution_count": null,
   "id": "693da992",
   "metadata": {},
   "outputs": [],
   "source": [
    "df_172=pd.read_csv('diary17\\\\diary17\\\\fmld172.csv')\n",
    "df_172['quarter']=2\n",
    "df_172['year']=2017"
   ]
  },
  {
   "cell_type": "code",
   "execution_count": null,
   "id": "b3d28064",
   "metadata": {},
   "outputs": [],
   "source": [
    "df_173=pd.read_csv('diary17\\\\diary17\\\\fmld173.csv')\n",
    "df_173['quarter']=3\n",
    "df_173['year']=2017"
   ]
  },
  {
   "cell_type": "code",
   "execution_count": null,
   "id": "b167f50e",
   "metadata": {},
   "outputs": [],
   "source": [
    "df_174=pd.read_csv('diary17\\\\diary17\\\\fmld174.csv')\n",
    "df_174['quarter']=4\n",
    "df_174['year']=2017"
   ]
  },
  {
   "cell_type": "code",
   "execution_count": null,
   "id": "7d51122c",
   "metadata": {},
   "outputs": [],
   "source": [
    "df=pd.concat([df_171, df_172, df_173, df_174], ignore_index=True)\n",
    "df.columns=df.columns.str.lower()\n",
    "df.to_excel('ces_2017.xlsx', index=False)"
   ]
  },
  {
   "cell_type": "markdown",
   "id": "193db29a",
   "metadata": {},
   "source": [
    "# 1.2 importing and reading the 2017 data\n",
    "\n",
    "We will now import the `ces_2017` data we just talked about creating and we will perform some basic commands on them."
   ]
  },
  {
   "cell_type": "code",
   "execution_count": 2,
   "id": "68a1e729",
   "metadata": {},
   "outputs": [
    {
     "name": "stdout",
     "output_type": "stream",
     "text": [
      "       inc_rnkm  inc_rnk5  inc_rnk4  inc_rnk3  inc_rnk2  inc_rnk1  inc_rank  \\\n",
      "0      0.704287  0.706457  0.699513  0.705671  0.709034  0.707517  0.763599   \n",
      "1      0.704573  0.706744  0.699800  0.705958  0.709321  0.707804  0.763886   \n",
      "2      0.256737  0.272063  0.260261  0.263508  0.273057  0.266441  0.375717   \n",
      "3      0.256312  0.271638  0.259836  0.263083  0.272632  0.266016  0.375292   \n",
      "4      0.346813  0.360343  0.345145  0.350655  0.364780  0.354823  0.458908   \n",
      "...         ...       ...       ...       ...       ...       ...       ...   \n",
      "11653  0.312648  0.352368  0.317850  0.357137  0.336585  0.254312  0.159898   \n",
      "11654  0.814607  0.805362  0.808316  0.811111  0.809492  0.812214  0.843717   \n",
      "11655  0.815041  0.805795  0.808750  0.811545  0.809926  0.812648  0.844151   \n",
      "11656  0.703517  0.710774  0.704304  0.725255  0.692941  0.675283  0.753443   \n",
      "11657  0.693793  0.710576  0.671254  0.672528  0.689816  0.701824  0.753642   \n",
      "\n",
      "         newid  age_ref age_ref_  ...  netr_ntm othr_gxm  rets_rvm  roye_txm  \\\n",
      "0      3608891       27        D  ...         A        A         A         A   \n",
      "1      3608892       27        D  ...         A        A         A         A   \n",
      "2      3608901       53        D  ...         A        A         A         A   \n",
      "3      3608902       53        D  ...         A        A         A         A   \n",
      "4      3608921       56        D  ...         A        A         A         A   \n",
      "...        ...      ...      ...  ...       ...      ...       ...       ...   \n",
      "11653  3839652       69        D  ...         A        A         A         A   \n",
      "11654  3839661       52        D  ...         A        D         A         A   \n",
      "11655  3839662       52        D  ...         A        D         A         A   \n",
      "11656  3839701       54        D  ...         A        A         A         A   \n",
      "11657  3839702       54        D  ...         A        A         A         A   \n",
      "\n",
      "      division  refgen hisp_ref  hisp2 quarter  year  \n",
      "0          8.0       5        2    NaN       1  2017  \n",
      "1          8.0       5        2    NaN       1  2017  \n",
      "2          4.0       3        2    NaN       1  2017  \n",
      "3          4.0       3        2    NaN       1  2017  \n",
      "4          4.0       3        2    NaN       1  2017  \n",
      "...        ...     ...      ...    ...     ...   ...  \n",
      "11653      5.0       3        2    2.0       4  2017  \n",
      "11654      5.0       4        2    NaN       4  2017  \n",
      "11655      5.0       4        2    NaN       4  2017  \n",
      "11656      2.0       3        2    NaN       4  2017  \n",
      "11657      2.0       3        2    NaN       4  2017  \n",
      "\n",
      "[11658 rows x 384 columns]\n"
     ]
    }
   ],
   "source": [
    "df=pd.read_excel('ces_2017.xlsx')\n",
    "print(df)"
   ]
  },
  {
   "cell_type": "code",
   "execution_count": 3,
   "id": "2f34c249",
   "metadata": {},
   "outputs": [
    {
     "name": "stdout",
     "output_type": "stream",
     "text": [
      "Index(['inc_rnkm', 'inc_rnk5', 'inc_rnk4', 'inc_rnk3', 'inc_rnk2', 'inc_rnk1',\n",
      "       'inc_rank', 'newid', 'age_ref', 'age_ref_', 'age2', 'age2_', 'bls_urbn',\n",
      "       'cutenure', 'cute_ure', 'descrip', 'descrip_', 'earncomp', 'earn_omp',\n",
      "       'educ_ref', 'educ0ref', 'educa2', 'educa2_', 'empltyp1', 'empl_yp1',\n",
      "       'empltyp2', 'empl_yp2', 'fam_size', 'fam__ize', 'fam_type', 'fam__ype',\n",
      "       'fgvx', 'fgvx_', 'fincbefx', 'finc_efx', 'finlwt21', 'firax', 'firax_',\n",
      "       'fjssdedx', 'fjss_edx', 'fpvtx', 'fpvtx_', 'freemlx', 'freemlx_',\n",
      "       'frrx', 'frrx_', 'fs_mthi', 'fs_mthi_', 'fss_rrx', 'fss_rrx_', 'fsuppx',\n",
      "       'fsuppx_', 'fwagex', 'fwagex_', 'hrsprwk1', 'hrsp_wk1', 'hrsprwk2',\n",
      "       'hrsp_wk2', 'jfs_amt', 'jfs_amt_', 'jgrcfdmv', 'jgrc_dmv', 'jgrcfdwk',\n",
      "       'jgrc_dwk', 'jgrocymv', 'jgro_ymv', 'jgrocywk', 'jgro_ywk', 'lumpx',\n",
      "       'lumpx_', 'marital1', 'mari_al1', 'no_earnr', 'no_e_rnr', 'occexpnx',\n",
      "       'occe_pnx', 'occulis2', 'occu_is2', 'othinx', 'othinx_', 'othrecx',\n",
      "       'othrecx_', 'perslt18', 'pers_t18', 'persot64', 'pers_t64', 'occulis1',\n",
      "       'occu_is1', 'popsize', 'race2', 'race2_', 'rec_fs', 'rec_fs_',\n",
      "       'ref_race', 'ref__ace', 'region', 'sex_ref', 'sex_ref_', 'sex2',\n",
      "       'sex2_', 'smsastat', 'strtmnth', 'strtyear', 'typownd', 'typownd_',\n",
      "       'vehq', 'vehq_', 'weeki', 'weeki_', 'weekn', 'welfrx', 'welfrx_',\n",
      "       'whynwrk1', 'whyn_rk1', 'whynwrk2', 'whyn_rk2', 'wk_wrkd1', 'wk_w_kd1',\n",
      "       'wk_wrkd2', 'wk_w_kd2', 'wtrep01', 'wtrep02', 'wtrep03', 'wtrep04',\n",
      "       'wtrep05', 'wtrep06', 'wtrep07', 'wtrep08', 'wtrep09', 'wtrep10',\n",
      "       'wtrep11', 'wtrep12', 'wtrep13', 'wtrep14', 'wtrep15', 'wtrep16',\n",
      "       'wtrep17', 'wtrep18', 'wtrep19', 'wtrep20', 'wtrep21', 'wtrep22',\n",
      "       'wtrep23', 'wtrep24', 'wtrep25', 'wtrep26', 'wtrep27', 'wtrep28',\n",
      "       'wtrep29', 'wtrep30', 'wtrep31', 'wtrep32', 'wtrep33', 'wtrep34',\n",
      "       'wtrep35', 'wtrep36', 'wtrep37', 'wtrep38', 'wtrep39', 'wtrep40',\n",
      "       'wtrep41', 'wtrep42', 'wtrep43', 'wtrep44', 'foodtot', 'foodhome',\n",
      "       'cereal', 'bakeprod', 'beef', 'pork', 'othmeat', 'poultry', 'seafood',\n",
      "       'eggs', 'milkprod', 'othdairy', 'frshfrut', 'frshveg', 'procfrut',\n",
      "       'procveg', 'sweets', 'nonalbev', 'oils', 'miscfood', 'foodaway',\n",
      "       'alcbev', 'smoksupp', 'pet_food', 'persprod', 'persserv', 'drugsupp',\n",
      "       'houskeep', 'hh_cu_q', 'hh_cu_q_', 'hhid', 'hhid_', 'childage',\n",
      "       'chil_age', 'inclass', 'state', 'inc__ank', 'cuid', 'horref1',\n",
      "       'horref1_', 'horref2', 'horref2_', 'fgvxm', 'fgvxm_', 'fincbefm',\n",
      "       'finc_efm', 'fincbef1', 'fincbef2', 'fincbef3', 'fincbef4', 'fincbef5',\n",
      "       'fincbefi', 'fjssdedm', 'fjss_edm', 'fjssded1', 'fjssded2', 'fjssded3',\n",
      "       'fjssded4', 'fjssded5', 'fpvtxm', 'fpvtxm_', 'frrxm', 'frrxm_',\n",
      "       'fs_amtxm', 'fs_a_txm', 'fs_amtx1', 'fs_amtx2', 'fs_amtx3', 'fs_amtx4',\n",
      "       'fs_amtx5', 'fs_amtxi', 'fss_rrxm', 'fss__rxm', 'fss_rrx1', 'fss_rrx2',\n",
      "       'fss_rrx3', 'fss_rrx4', 'fss_rrx5', 'fss_rrxi', 'fsuppxm', 'fsuppxm_',\n",
      "       'fsuppx1', 'fsuppx2', 'fsuppx3', 'fsuppx4', 'fsuppx5', 'fsuppxi',\n",
      "       'fwagexm', 'fwagexm_', 'fwagex1', 'fwagex2', 'fwagex3', 'fwagex4',\n",
      "       'fwagex5', 'fwagexi', 'inc__nkm', 'jfs_amtm', 'jfs__mtm', 'jfs_amt1',\n",
      "       'jfs_amt2', 'jfs_amt3', 'jfs_amt4', 'jfs_amt5', 'othinxm', 'othinxm_',\n",
      "       'othinx1', 'othinx2', 'othinx3', 'othinx4', 'othinx5', 'othinxi',\n",
      "       'welfrxm', 'welfrxm_', 'welfrx1', 'welfrx2', 'welfrx3', 'welfrx4',\n",
      "       'welfrx5', 'welfrxi', 'pickcode', 'lumpb', 'lumpb_', 'lumpbx',\n",
      "       'lumpbx_', 'othinb', 'othinb_', 'othinbx', 'othinbx_', 'welfrb',\n",
      "       'welfrb_', 'welfrbx', 'welfrbx_', 'psu', 'high_edu', 'fsmpfrmx',\n",
      "       'fsmp_rmx', 'fsmpfrx1', 'fsmpfrx2', 'fsmpfrx3', 'fsmpfrx4', 'fsmpfrx5',\n",
      "       'fsmpfrxi', 'fsmpfrxm', 'intrdvb', 'intrdvb_', 'intrdvbx', 'intr_vbx',\n",
      "       'intrdvx', 'intrdvx_', 'intrdvx1', 'intrdvx2', 'intrdvx3', 'intrdvx4',\n",
      "       'intrdvx5', 'intrdvxi', 'intrdvxm', 'netrentb', 'netr_ntb', 'netrentx',\n",
      "       'netr_ntx', 'netrntbx', 'netr_tbx', 'netrent1', 'netrent2', 'netrent3',\n",
      "       'netrent4', 'netrent5', 'netrenti', 'netrentm', 'othregb', 'othregb_',\n",
      "       'othregbx', 'othr_gbx', 'othregx', 'othregx_', 'othregx1', 'othregx2',\n",
      "       'othregx3', 'othregx4', 'othregx5', 'othregxi', 'othregxm', 'retsrvbx',\n",
      "       'rets_vbx', 'retsurvb', 'rets_rvb', 'retsurvx', 'rets_rvx', 'retsurv1',\n",
      "       'retsurv2', 'retsurv3', 'retsurv4', 'retsurv5', 'retsurvi', 'retsurvm',\n",
      "       'royestb', 'royestb_', 'royestbx', 'roye_tbx', 'royestx', 'royestx_',\n",
      "       'royestx1', 'royestx2', 'royestx3', 'royestx4', 'royestx5', 'royestxi',\n",
      "       'royestxm', 'fsmp_rxm', 'intr_vxm', 'netr_ntm', 'othr_gxm', 'rets_rvm',\n",
      "       'roye_txm', 'division', 'refgen', 'hisp_ref', 'hisp2', 'quarter',\n",
      "       'year'],\n",
      "      dtype='object')\n"
     ]
    }
   ],
   "source": [
    "pd.options.display.max_seq_items=len(df.columns)\n",
    "print(df.columns)"
   ]
  },
  {
   "cell_type": "code",
   "execution_count": 4,
   "id": "ca19650b",
   "metadata": {},
   "outputs": [
    {
     "name": "stdout",
     "output_type": "stream",
     "text": [
      "11507\n"
     ]
    }
   ],
   "source": [
    "df=df[df['age_ref']>=21]\n",
    "print(len(df))"
   ]
  },
  {
   "cell_type": "markdown",
   "id": "4cbd6580",
   "metadata": {},
   "source": [
    "# 2. Reading the data\n",
    "\n",
    "Using the accompanying codebook, read information from a specific consumer unit. Feel free to add other expenditure categories to this list depending on your own interests"
   ]
  },
  {
   "cell_type": "code",
   "execution_count": 5,
   "id": "6573965a",
   "metadata": {},
   "outputs": [
    {
     "name": "stdout",
     "output_type": "stream",
     "text": [
      "      newid  hhid    cuid  age_ref  cutenure  educ_ref  ref_race  sex_ref  \\\n",
      "0   3608891   NaN  360889       27         1        14         1        1   \n",
      "1   3608892   NaN  360889       27         1        14         1        1   \n",
      "2   3608901   NaN  360890       53         1        12         1        2   \n",
      "3   3608902   NaN  360890       53         1        12         1        2   \n",
      "4   3608921   NaN  360892       56         4        15         1        1   \n",
      "5   3608922   NaN  360892       56         4        15         1        1   \n",
      "6   3608931   NaN  360893       34         1        15         1        2   \n",
      "7   3608932   NaN  360893       34         1        15         1        2   \n",
      "8   3608951   NaN  360895       64         3        12         1        1   \n",
      "9   3608952   NaN  360895       64         3        12         1        1   \n",
      "10  3608981   NaN  360898       32         4        16         4        2   \n",
      "11  3608982   NaN  360898       32         4        16         4        2   \n",
      "12  3608992   NaN  360899       49         2        12         1        1   \n",
      "13  3609001   NaN  360900       65         1        14         2        1   \n",
      "14  3609002   NaN  360900       65         1        14         2        1   \n",
      "15  3609021   NaN  360902       70         2        12         1        2   \n",
      "16  3609022   NaN  360902       70         2        12         1        2   \n",
      "17  3609041   NaN  360904       62         1        12         1        2   \n",
      "18  3609042   NaN  360904       62         1        12         1        2   \n",
      "19  3609051   NaN  360905       34         4        15         6        1   \n",
      "\n",
      "    hisp_ref  empltyp1  marital1    foodtot   foodhome  \n",
      "0          2       1.0         5   28.80000   26.95000  \n",
      "1          2       1.0         5  114.67000   92.92000  \n",
      "2          2       1.0         3    0.00000    0.00000  \n",
      "3          2       1.0         3   36.36000   11.59000  \n",
      "4          2       1.0         3   28.50000   22.56000  \n",
      "5          2       1.0         3   24.76000   18.09000  \n",
      "6          2       5.0         1  159.79000  122.50000  \n",
      "7          2       5.0         1  229.63001  211.62001  \n",
      "8          1       1.0         1    0.00000    0.00000  \n",
      "9          1       1.0         1    0.00000    0.00000  \n",
      "10         2       5.0         1  267.93114  149.50790  \n",
      "11         2       5.0         1  141.76149  141.76149  \n",
      "12         1       1.0         1   12.63000    7.66000  \n",
      "13         2       1.0         1  136.15815  120.62154  \n",
      "14         2       1.0         1  194.56125  156.35000  \n",
      "15         2       1.0         2   28.62623   25.00000  \n",
      "16         2       1.0         2   50.78000   35.06000  \n",
      "17         2       NaN         1   36.55000   28.73000  \n",
      "18         2       NaN         1  127.42000  124.42000  \n",
      "19         2       1.0         1  246.19649  122.17000  \n"
     ]
    }
   ],
   "source": [
    "columns=['newid', 'hhid', 'cuid', 'age_ref', 'cutenure', 'educ_ref', 'ref_race', 'sex_ref', \n",
    "         'hisp_ref', 'empltyp1', 'marital1', 'foodtot', 'foodhome']\n",
    "print(df[columns].head(20))"
   ]
  },
  {
   "cell_type": "code",
   "execution_count": null,
   "id": "ff1b0a86",
   "metadata": {},
   "outputs": [],
   "source": [
    "df_grouped=df.groupby('cuid').agg({'educ_ref': 'max', 'foodtot': 'sum', 'foodhome': 'sum'})\n",
    "print(df_grouped[df_grouped['foodhome']>=df_grouped['foodtot']])"
   ]
  },
  {
   "cell_type": "code",
   "execution_count": null,
   "id": "c1639504",
   "metadata": {},
   "outputs": [],
   "source": []
  }
 ],
 "metadata": {
  "kernelspec": {
   "display_name": "Python 3 (ipykernel)",
   "language": "python",
   "name": "python3"
  },
  "language_info": {
   "codemirror_mode": {
    "name": "ipython",
    "version": 3
   },
   "file_extension": ".py",
   "mimetype": "text/x-python",
   "name": "python",
   "nbconvert_exporter": "python",
   "pygments_lexer": "ipython3",
   "version": "3.9.16"
  }
 },
 "nbformat": 4,
 "nbformat_minor": 5
}
