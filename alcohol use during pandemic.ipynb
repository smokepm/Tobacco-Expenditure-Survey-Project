{
 "cells": [
  {
   "cell_type": "markdown",
   "id": "586de02a",
   "metadata": {},
   "source": [
    "# 1. Create dataset and export as .CSV"
   ]
  },
  {
   "cell_type": "code",
   "execution_count": 2,
   "id": "814db17f",
   "metadata": {},
   "outputs": [],
   "source": [
    "import pandas as pd"
   ]
  },
  {
   "cell_type": "code",
   "execution_count": 3,
   "id": "f91a0cab",
   "metadata": {},
   "outputs": [
    {
     "ename": "FileNotFoundError",
     "evalue": "[Errno 2] No such file or directory: 'diary17\\\\diary17\\\\fmld171.csv'",
     "output_type": "error",
     "traceback": [
      "\u001b[0;31m---------------------------------------------------------------------------\u001b[0m",
      "\u001b[0;31mFileNotFoundError\u001b[0m                         Traceback (most recent call last)",
      "\u001b[1;32m/home/parker/Documents/research.ipynb/alcohol use during pandemic.ipynb Cell 3\u001b[0m line \u001b[0;36m1\n\u001b[0;32m----> <a href='vscode-notebook-cell:/home/parker/Documents/research.ipynb/alcohol%20use%20during%20pandemic.ipynb#W2sZmlsZQ%3D%3D?line=0'>1</a>\u001b[0m df_171\u001b[39m=\u001b[39mpd\u001b[39m.\u001b[39;49mread_csv(\u001b[39m'\u001b[39;49m\u001b[39mdiary17\u001b[39;49m\u001b[39m\\\\\u001b[39;49;00m\u001b[39mdiary17\u001b[39;49m\u001b[39m\\\\\u001b[39;49;00m\u001b[39mfmld171.csv\u001b[39;49m\u001b[39m'\u001b[39;49m)\n\u001b[1;32m      <a href='vscode-notebook-cell:/home/parker/Documents/research.ipynb/alcohol%20use%20during%20pandemic.ipynb#W2sZmlsZQ%3D%3D?line=1'>2</a>\u001b[0m df_171[\u001b[39m'\u001b[39m\u001b[39mquarter\u001b[39m\u001b[39m'\u001b[39m]\u001b[39m=\u001b[39m\u001b[39m1\u001b[39m\n\u001b[1;32m      <a href='vscode-notebook-cell:/home/parker/Documents/research.ipynb/alcohol%20use%20during%20pandemic.ipynb#W2sZmlsZQ%3D%3D?line=2'>3</a>\u001b[0m df_171[\u001b[39m'\u001b[39m\u001b[39myear\u001b[39m\u001b[39m'\u001b[39m]\u001b[39m=\u001b[39m\u001b[39m2017\u001b[39m\n",
      "File \u001b[0;32m~/.local/lib/python3.10/site-packages/pandas/io/parsers/readers.py:948\u001b[0m, in \u001b[0;36mread_csv\u001b[0;34m(filepath_or_buffer, sep, delimiter, header, names, index_col, usecols, dtype, engine, converters, true_values, false_values, skipinitialspace, skiprows, skipfooter, nrows, na_values, keep_default_na, na_filter, verbose, skip_blank_lines, parse_dates, infer_datetime_format, keep_date_col, date_parser, date_format, dayfirst, cache_dates, iterator, chunksize, compression, thousands, decimal, lineterminator, quotechar, quoting, doublequote, escapechar, comment, encoding, encoding_errors, dialect, on_bad_lines, delim_whitespace, low_memory, memory_map, float_precision, storage_options, dtype_backend)\u001b[0m\n\u001b[1;32m    935\u001b[0m kwds_defaults \u001b[39m=\u001b[39m _refine_defaults_read(\n\u001b[1;32m    936\u001b[0m     dialect,\n\u001b[1;32m    937\u001b[0m     delimiter,\n\u001b[0;32m   (...)\u001b[0m\n\u001b[1;32m    944\u001b[0m     dtype_backend\u001b[39m=\u001b[39mdtype_backend,\n\u001b[1;32m    945\u001b[0m )\n\u001b[1;32m    946\u001b[0m kwds\u001b[39m.\u001b[39mupdate(kwds_defaults)\n\u001b[0;32m--> 948\u001b[0m \u001b[39mreturn\u001b[39;00m _read(filepath_or_buffer, kwds)\n",
      "File \u001b[0;32m~/.local/lib/python3.10/site-packages/pandas/io/parsers/readers.py:611\u001b[0m, in \u001b[0;36m_read\u001b[0;34m(filepath_or_buffer, kwds)\u001b[0m\n\u001b[1;32m    608\u001b[0m _validate_names(kwds\u001b[39m.\u001b[39mget(\u001b[39m\"\u001b[39m\u001b[39mnames\u001b[39m\u001b[39m\"\u001b[39m, \u001b[39mNone\u001b[39;00m))\n\u001b[1;32m    610\u001b[0m \u001b[39m# Create the parser.\u001b[39;00m\n\u001b[0;32m--> 611\u001b[0m parser \u001b[39m=\u001b[39m TextFileReader(filepath_or_buffer, \u001b[39m*\u001b[39;49m\u001b[39m*\u001b[39;49mkwds)\n\u001b[1;32m    613\u001b[0m \u001b[39mif\u001b[39;00m chunksize \u001b[39mor\u001b[39;00m iterator:\n\u001b[1;32m    614\u001b[0m     \u001b[39mreturn\u001b[39;00m parser\n",
      "File \u001b[0;32m~/.local/lib/python3.10/site-packages/pandas/io/parsers/readers.py:1448\u001b[0m, in \u001b[0;36mTextFileReader.__init__\u001b[0;34m(self, f, engine, **kwds)\u001b[0m\n\u001b[1;32m   1445\u001b[0m     \u001b[39mself\u001b[39m\u001b[39m.\u001b[39moptions[\u001b[39m\"\u001b[39m\u001b[39mhas_index_names\u001b[39m\u001b[39m\"\u001b[39m] \u001b[39m=\u001b[39m kwds[\u001b[39m\"\u001b[39m\u001b[39mhas_index_names\u001b[39m\u001b[39m\"\u001b[39m]\n\u001b[1;32m   1447\u001b[0m \u001b[39mself\u001b[39m\u001b[39m.\u001b[39mhandles: IOHandles \u001b[39m|\u001b[39m \u001b[39mNone\u001b[39;00m \u001b[39m=\u001b[39m \u001b[39mNone\u001b[39;00m\n\u001b[0;32m-> 1448\u001b[0m \u001b[39mself\u001b[39m\u001b[39m.\u001b[39m_engine \u001b[39m=\u001b[39m \u001b[39mself\u001b[39;49m\u001b[39m.\u001b[39;49m_make_engine(f, \u001b[39mself\u001b[39;49m\u001b[39m.\u001b[39;49mengine)\n",
      "File \u001b[0;32m~/.local/lib/python3.10/site-packages/pandas/io/parsers/readers.py:1705\u001b[0m, in \u001b[0;36mTextFileReader._make_engine\u001b[0;34m(self, f, engine)\u001b[0m\n\u001b[1;32m   1703\u001b[0m     \u001b[39mif\u001b[39;00m \u001b[39m\"\u001b[39m\u001b[39mb\u001b[39m\u001b[39m\"\u001b[39m \u001b[39mnot\u001b[39;00m \u001b[39min\u001b[39;00m mode:\n\u001b[1;32m   1704\u001b[0m         mode \u001b[39m+\u001b[39m\u001b[39m=\u001b[39m \u001b[39m\"\u001b[39m\u001b[39mb\u001b[39m\u001b[39m\"\u001b[39m\n\u001b[0;32m-> 1705\u001b[0m \u001b[39mself\u001b[39m\u001b[39m.\u001b[39mhandles \u001b[39m=\u001b[39m get_handle(\n\u001b[1;32m   1706\u001b[0m     f,\n\u001b[1;32m   1707\u001b[0m     mode,\n\u001b[1;32m   1708\u001b[0m     encoding\u001b[39m=\u001b[39;49m\u001b[39mself\u001b[39;49m\u001b[39m.\u001b[39;49moptions\u001b[39m.\u001b[39;49mget(\u001b[39m\"\u001b[39;49m\u001b[39mencoding\u001b[39;49m\u001b[39m\"\u001b[39;49m, \u001b[39mNone\u001b[39;49;00m),\n\u001b[1;32m   1709\u001b[0m     compression\u001b[39m=\u001b[39;49m\u001b[39mself\u001b[39;49m\u001b[39m.\u001b[39;49moptions\u001b[39m.\u001b[39;49mget(\u001b[39m\"\u001b[39;49m\u001b[39mcompression\u001b[39;49m\u001b[39m\"\u001b[39;49m, \u001b[39mNone\u001b[39;49;00m),\n\u001b[1;32m   1710\u001b[0m     memory_map\u001b[39m=\u001b[39;49m\u001b[39mself\u001b[39;49m\u001b[39m.\u001b[39;49moptions\u001b[39m.\u001b[39;49mget(\u001b[39m\"\u001b[39;49m\u001b[39mmemory_map\u001b[39;49m\u001b[39m\"\u001b[39;49m, \u001b[39mFalse\u001b[39;49;00m),\n\u001b[1;32m   1711\u001b[0m     is_text\u001b[39m=\u001b[39;49mis_text,\n\u001b[1;32m   1712\u001b[0m     errors\u001b[39m=\u001b[39;49m\u001b[39mself\u001b[39;49m\u001b[39m.\u001b[39;49moptions\u001b[39m.\u001b[39;49mget(\u001b[39m\"\u001b[39;49m\u001b[39mencoding_errors\u001b[39;49m\u001b[39m\"\u001b[39;49m, \u001b[39m\"\u001b[39;49m\u001b[39mstrict\u001b[39;49m\u001b[39m\"\u001b[39;49m),\n\u001b[1;32m   1713\u001b[0m     storage_options\u001b[39m=\u001b[39;49m\u001b[39mself\u001b[39;49m\u001b[39m.\u001b[39;49moptions\u001b[39m.\u001b[39;49mget(\u001b[39m\"\u001b[39;49m\u001b[39mstorage_options\u001b[39;49m\u001b[39m\"\u001b[39;49m, \u001b[39mNone\u001b[39;49;00m),\n\u001b[1;32m   1714\u001b[0m )\n\u001b[1;32m   1715\u001b[0m \u001b[39massert\u001b[39;00m \u001b[39mself\u001b[39m\u001b[39m.\u001b[39mhandles \u001b[39mis\u001b[39;00m \u001b[39mnot\u001b[39;00m \u001b[39mNone\u001b[39;00m\n\u001b[1;32m   1716\u001b[0m f \u001b[39m=\u001b[39m \u001b[39mself\u001b[39m\u001b[39m.\u001b[39mhandles\u001b[39m.\u001b[39mhandle\n",
      "File \u001b[0;32m~/.local/lib/python3.10/site-packages/pandas/io/common.py:863\u001b[0m, in \u001b[0;36mget_handle\u001b[0;34m(path_or_buf, mode, encoding, compression, memory_map, is_text, errors, storage_options)\u001b[0m\n\u001b[1;32m    858\u001b[0m \u001b[39melif\u001b[39;00m \u001b[39misinstance\u001b[39m(handle, \u001b[39mstr\u001b[39m):\n\u001b[1;32m    859\u001b[0m     \u001b[39m# Check whether the filename is to be opened in binary mode.\u001b[39;00m\n\u001b[1;32m    860\u001b[0m     \u001b[39m# Binary mode does not support 'encoding' and 'newline'.\u001b[39;00m\n\u001b[1;32m    861\u001b[0m     \u001b[39mif\u001b[39;00m ioargs\u001b[39m.\u001b[39mencoding \u001b[39mand\u001b[39;00m \u001b[39m\"\u001b[39m\u001b[39mb\u001b[39m\u001b[39m\"\u001b[39m \u001b[39mnot\u001b[39;00m \u001b[39min\u001b[39;00m ioargs\u001b[39m.\u001b[39mmode:\n\u001b[1;32m    862\u001b[0m         \u001b[39m# Encoding\u001b[39;00m\n\u001b[0;32m--> 863\u001b[0m         handle \u001b[39m=\u001b[39m \u001b[39mopen\u001b[39;49m(\n\u001b[1;32m    864\u001b[0m             handle,\n\u001b[1;32m    865\u001b[0m             ioargs\u001b[39m.\u001b[39;49mmode,\n\u001b[1;32m    866\u001b[0m             encoding\u001b[39m=\u001b[39;49mioargs\u001b[39m.\u001b[39;49mencoding,\n\u001b[1;32m    867\u001b[0m             errors\u001b[39m=\u001b[39;49merrors,\n\u001b[1;32m    868\u001b[0m             newline\u001b[39m=\u001b[39;49m\u001b[39m\"\u001b[39;49m\u001b[39m\"\u001b[39;49m,\n\u001b[1;32m    869\u001b[0m         )\n\u001b[1;32m    870\u001b[0m     \u001b[39melse\u001b[39;00m:\n\u001b[1;32m    871\u001b[0m         \u001b[39m# Binary mode\u001b[39;00m\n\u001b[1;32m    872\u001b[0m         handle \u001b[39m=\u001b[39m \u001b[39mopen\u001b[39m(handle, ioargs\u001b[39m.\u001b[39mmode)\n",
      "\u001b[0;31mFileNotFoundError\u001b[0m: [Errno 2] No such file or directory: 'diary17\\\\diary17\\\\fmld171.csv'"
     ]
    }
   ],
   "source": [
    "df_171=pd.read_csv('diary17\\\\diary17\\\\fmld171.csv')\n",
    "df_171['quarter']=1\n",
    "df_171['year']=2017\n",
    "\n",
    "df_172=pd.read_csv('diary17\\\\diary17\\\\fmld172.csv)\n",
    "df_172['quarter']=2\n",
    "df_172['year']=2017\n",
    "\n",
    "df_173=pd.read_csv('diary17\\\\diary17\\\\fmld173.csv')\n",
    "df_173['quarter']=3\n",
    "df_173['year']=2017\n",
    "\n",
    "df_174=pd.read_csv('diary17\\\\diary17\\\\fmld174.csv')\n",
    "df_174['quarter']=4\n",
    "df_174['year']=2017\n",
    "\n",
    "df_2017=pd.concat([df_171, df_172, df_173, df_174], ignore_index=True)\n",
    "df_2017.columns=df_2017.columns.str.lower()"
   ]
  },
  {
   "cell_type": "code",
   "execution_count": null,
   "id": "8b978e70",
   "metadata": {},
   "outputs": [],
   "source": [
    "df_181=pd.read_csv('diary18\\\\diary18\\\\fmld181.csv')\n",
    "df_181['quarter']=1\n",
    "df_181['year']=2018\n",
    "\n",
    "df_182=pd.read_csv('diary18\\\\diary18\\\\fmld182.csv')\n",
    "df_182['quarter']=2\n",
    "df_182['year']=2018\n",
    "\n",
    "df_183=pd.read_csv('diary18\\\\diary18\\\\fmld183.csv')\n",
    "df_183['quarter']=3\n",
    "df_183['year']=2018\n",
    "\n",
    "df_184=pd.read_csv('diary18\\\\diary18\\\\fmld184.csv')\n",
    "df_184['quarter']=4\n",
    "df_184['year']=2018\n",
    "\n",
    "df_2018=pd.concat([df_181, df_182, df_183, df_184], ignore_index=True)\n",
    "df_2018.columns=df_2018.columns.str.lower()"
   ]
  },
  {
   "cell_type": "code",
   "execution_count": null,
   "id": "79cb0968",
   "metadata": {},
   "outputs": [],
   "source": [
    "df_191=pd.read_csv('diary19\\\\diary19\\\\fmld191.csv')\n",
    "df_191['quarter']=1\n",
    "df_191['year']=2019\n",
    "\n",
    "df_192=pd.read_csv('diary19\\\\diary19\\\\fmld192.csv')\n",
    "df_192['quarter']=2\n",
    "df_192['year']=2019\n",
    "\n",
    "df_193=pd.read_csv('diary19\\\\diary19\\\\fmld193.csv')\n",
    "df_193['quarter']=3\n",
    "df_193['year']=2019\n",
    "\n",
    "df_194=pd.read_csv('diary19\\\\diary19\\\\fmld194.csv')\n",
    "df_194['quarter']=4\n",
    "df_194['year']=2019\n",
    "\n",
    "df_2019=pd.concat([df_191, df_192, df_193, df_194], ignore_index=True)\n",
    "df_2019.columns=df_2019.columns.str.lower()"
   ]
  },
  {
   "cell_type": "code",
   "execution_count": null,
   "id": "5846cd9c",
   "metadata": {},
   "outputs": [],
   "source": [
    "df_201=pd.read_csv('diary20\\\\diary20\\\\fmld201.csv')\n",
    "df_201['quarter']=1\n",
    "df_201['year']=2020\n",
    "\n",
    "df_202=pd.read_csv('diary20\\\\diary20\\\\fmld202.csv')\n",
    "df_202['quarter']=2\n",
    "df_202['year']=2020\n",
    "\n",
    "df_203=pd.read_csv('diary20\\\\diary20\\\\fmld203.csv')\n",
    "df_203['quarter']=3\n",
    "df_203['year']=2020\n",
    "\n",
    "df_204=pd.read_csv('diary20\\\\diary20\\\\fmld204.csv')\n",
    "df_204['quarter']=4\n",
    "df_204['year']=2020\n",
    "\n",
    "df_2020=pd.concat([df_201, df_202, df_203, df_204], ignore_index=True)\n",
    "df_2020.columns=df_2020.columns.str.lower()"
   ]
  },
  {
   "cell_type": "code",
   "execution_count": null,
   "id": "b6430e78",
   "metadata": {},
   "outputs": [],
   "source": [
    "df_211=pd.read_csv('diary21\\\\diary21\\\\fmld211.csv')\n",
    "df_211['quarter']=1\n",
    "df_211['year']=2021\n",
    "\n",
    "df_212=pd.read_csv('diary21\\\\diary21\\\\fmld212.csv')\n",
    "df_212['quarter']=2\n",
    "df_212['year']=2021\n",
    "\n",
    "df_213=pd.read_csv('diary21\\\\diary21\\\\fmld213.csv')\n",
    "df_213['quarter']=3\n",
    "df_213['year']=2021\n",
    "\n",
    "df_214=pd.read_csv('diary21\\\\diary21\\\\fmld214.csv')\n",
    "df_214['quarter']=4\n",
    "df_214['year']=2021\n",
    "\n",
    "df_2021=pd.concat([df_211, df_212, df_213, df_214], ignore_index=True)\n",
    "df_2021.columns=df_2021.columns.str.lower()"
   ]
  },
  {
   "cell_type": "code",
   "execution_count": null,
   "id": "a5b44567",
   "metadata": {},
   "outputs": [],
   "source": [
    "print(len(df_2017), len(df_2018), len(df_2019), len(df_2020), len(df_2021))"
   ]
  },
  {
   "cell_type": "code",
   "execution_count": null,
   "id": "d9d40d34",
   "metadata": {},
   "outputs": [],
   "source": [
    "df=pd.concat([df_2017, df_2018, df_2019, df_2020, df_2021], ignore_index=True)\n",
    "print(len(df))"
   ]
  },
  {
   "cell_type": "code",
   "execution_count": null,
   "id": "15c949a0",
   "metadata": {},
   "outputs": [],
   "source": [
    "df.to_csv('2017_ces_2021.csv', index=False)"
   ]
  },
  {
   "cell_type": "markdown",
   "id": "47313bce",
   "metadata": {},
   "source": [
    "# 2. Import dataset and prep for analysis"
   ]
  },
  {
   "cell_type": "code",
   "execution_count": null,
   "id": "961772ea",
   "metadata": {},
   "outputs": [],
   "source": [
    "import pandas as pd\n",
    "df=pd.read_csv('2017_ces_2021.csv')\n",
    "#pd.options.display.max_seq_items=len(df.columns)\n",
    "#print(df.columns)"
   ]
  },
  {
   "cell_type": "code",
   "execution_count": null,
   "id": "1a891a41",
   "metadata": {},
   "outputs": [
    {
     "name": "stdout",
     "output_type": "stream",
     "text": [
      "55420\n"
     ]
    }
   ],
   "source": [
    "df=df[df['age_ref']>=21]\n",
    "print(len(df))"
   ]
  },
  {
   "cell_type": "code",
   "execution_count": null,
   "id": "340f0fa3",
   "metadata": {},
   "outputs": [],
   "source": [
    "df.loc[df['sex_ref']==1, 'male']=1\n",
    "df.loc[df['sex_ref']==2, 'male']=0\n",
    "\n",
    "df.loc[df['hisp_ref']==1, 'hispanic']=1\n",
    "df.loc[df['hisp_ref']==2, 'hispanic']=0\n",
    "\n",
    "df.loc[(df['ref_race']==1) & (df['hisp_ref']==2), 'nonhisp_white']=1\n",
    "df.loc[df['ref_race']!=1, 'nonhisp_white']=0\n",
    "df.loc[(df['ref_race']==1) & (df['hisp_ref']==1), 'nonhisp_white']=0\n",
    "\n",
    "df.loc[(df['ref_race']==2) & (df['hisp_ref']==2), 'nonhisp_black']=1\n",
    "df.loc[df['ref_race']!=2, 'nonhisp_black']=0\n",
    "df.loc[(df['ref_race']==2) & (df['hisp_ref']==1), 'nonhisp_black']=0\n",
    "\n",
    "df.loc[(df['ref_race']==4) & (df['hisp_ref']==2), 'nonhisp_asian']=1\n",
    "df.loc[df['ref_race']!=4, 'nonhisp_asian']=0\n",
    "df.loc[(df['ref_race']==4) & (df['hisp_ref']==1), 'nonhisp_asian']=0\n",
    "\n",
    "df.loc[df['educ_ref'].isin([13, 14, 15, 16]), 'college']=1\n",
    "df.loc[~df['educ_ref'].isin([13, 14, 15, 16]), 'college']=0\n",
    "\n",
    "df.loc[df['educ_ref'].isin([12]), 'hs']=1\n",
    "df.loc[~df['educ_ref'].isin([12]), 'hs']=0\n",
    "\n",
    "df.loc[df['educ_ref'].isin([0, 10, 11]), 'less_hs']=1\n",
    "df.loc[~df['educ_ref'].isin([0, 10, 11]), 'less_hs']=0\n",
    "\n",
    "df.loc[df['childage']!=0, 'has_child']=1\n",
    "df.loc[df['childage']==0, 'has_child']=0\n",
    "\n",
    "df.loc[df['childage'].between(1,6), 'haschild_under18']=1 # Has children and at least one under 18\n",
    "df.loc[df['childage']==7, 'haschild_under18']=0 # Has children and none under 18\n",
    "\n",
    "df.loc[df['bls_urbn']==1, 'urban']=1\n",
    "df.loc[df['bls_urbn']==2, 'urban']=0\n",
    "\n",
    "df.loc[df['marital1']==1, 'pres_married']=1\n",
    "df.loc[df['marital1']!=1, 'pres_married']=0\n",
    "\n",
    "df.loc[df['marital1'].between(2,4), 'wid_div_sep']=1\n",
    "df.loc[~df['marital1'].between(2,4), 'wid_div_sep']=0\n",
    "\n",
    "df.loc[df['marital1']==5, 'never_married']=1\n",
    "df.loc[df['marital1']!=5, 'never_married']=0\n",
    "\n",
    "df.loc[df['pres_married']==0, 'single']=1\n",
    "df.loc[df['pres_married']!=0, 'single']=0\n",
    "\n",
    "df.loc[df['cutenure'].isin([1,2,3]), 'homeowner']=1 #Excludes cutenure=3 which is \"homeowner; mortgage status not reported\"\n",
    "df.loc[~df['cutenure'].isin([1,2,3]), 'homeowner']=0\n",
    "\n",
    "df.loc[df['cutenure']==4, 'renter']=1\n",
    "df.loc[df['cutenure']!=4, 'renter']=0\n",
    "\n",
    "df.loc[df['region']==1, 'northeast']=1\n",
    "df.loc[df['region']!=1, 'northeast']=0\n",
    "\n",
    "df.loc[df['region']==2, 'midwest']=1\n",
    "df.loc[df['region']!=2, 'midwest']=0\n",
    "\n",
    "df.loc[df['region']==3, 'south']=1\n",
    "df.loc[df['region']!=3, 'south']=0\n",
    "\n",
    "df.loc[df['region']==4, 'west']=1\n",
    "df.loc[df['region']!=4, 'west']=0\n",
    "\n",
    "df.loc[df['empltyp1'].notnull(), 'employed']=1\n",
    "df.loc[df['empltyp1'].isnull(), 'employed']=0"
   ]
  },
  {
   "cell_type": "code",
   "execution_count": null,
   "id": "d26008a4",
   "metadata": {},
   "outputs": [],
   "source": [
    "condition1 = (df['year']==2020) & (df['quarter'].between(2,4))\n",
    "condition2 = (df['year']==2021)\n",
    "df.loc[condition1 | condition2, 'post_covid']=1\n",
    "df.loc[~condition1 & ~condition2, 'post_covid']=0"
   ]
  },
  {
   "cell_type": "markdown",
   "id": "638588a7",
   "metadata": {},
   "source": [
    "## Notes on Section 2\n",
    "\n",
    "`childage` is an interesting variable. Check the codebook, but equals 0 if no children, 1 if oldest child<6, 6 if oldest child>17 and at least one child<17, and 7 if all children>17."
   ]
  },
  {
   "cell_type": "markdown",
   "id": "94eff950",
   "metadata": {},
   "source": [
    "# 3. Summary statistics"
   ]
  },
  {
   "cell_type": "code",
   "execution_count": null,
   "id": "d7fe69d9",
   "metadata": {},
   "outputs": [],
   "source": [
    "sum_stats=['male', 'age_ref', 'hispanic', 'nonhisp_white', 'nonhisp_black', 'nonhisp_asian', 'college', 'hs', 'less_hs', 'has_child', \n",
    "           'haschild_under18', 'urban', 'pres_married', 'wid_div_sep', 'never_married', 'single', 'homeowner', \n",
    "           'renter', 'post_covid', 'northeast', 'midwest', 'south', 'west', 'employed', 'finlwt21']\n",
    "\n",
    "expend_cols=['foodhome', 'foodaway', 'alcbev', 'smoksupp', 'pet_food', \n",
    "             'persprod', 'persserv', 'drugsupp', 'houskeep']"
   ]
  },
  {
   "cell_type": "code",
   "execution_count": null,
   "id": "3b97a252",
   "metadata": {},
   "outputs": [],
   "source": [
    "df_sumstats=df.groupby('cuid').agg({col: 'max' for col in sum_stats} | {col: 'sum' for col in expend_cols})\n",
    "#print(df_sumstats)"
   ]
  },
  {
   "cell_type": "code",
   "execution_count": null,
   "id": "95b9ce20",
   "metadata": {},
   "outputs": [],
   "source": [
    "df_sumstats['totexp']=df_sumstats[expend_cols].sum(axis=1)"
   ]
  },
  {
   "cell_type": "code",
   "execution_count": null,
   "id": "2102b7bc",
   "metadata": {},
   "outputs": [
    {
     "name": "stdout",
     "output_type": "stream",
     "text": [
      "        male  age_ref  hispanic  nonhisp_white  nonhisp_black  nonhisp_asian  \\\n",
      "cuid                                                                           \n",
      "360889   1.0       27       0.0            1.0            0.0            0.0   \n",
      "360890   0.0       53       0.0            1.0            0.0            0.0   \n",
      "360892   1.0       56       0.0            1.0            0.0            0.0   \n",
      "360893   0.0       34       0.0            1.0            0.0            0.0   \n",
      "360895   1.0       64       1.0            0.0            0.0            0.0   \n",
      "...      ...      ...       ...            ...            ...            ...   \n",
      "501093   0.0       55       0.0            1.0            0.0            0.0   \n",
      "501094   1.0       22       0.0            1.0            0.0            0.0   \n",
      "501099   1.0       87       0.0            1.0            0.0            0.0   \n",
      "501102   0.0       87       0.0            0.0            1.0            0.0   \n",
      "501104   0.0       61       0.0            0.0            0.0            0.0   \n",
      "\n",
      "        college   hs  less_hs  has_child  ...   foodhome  foodaway  alcbev  \\\n",
      "cuid                                      ...                                \n",
      "360889      1.0  0.0      0.0        0.0  ...  119.87000     23.60    0.00   \n",
      "360890      0.0  1.0      0.0        0.0  ...   11.59000     24.77    0.00   \n",
      "360892      1.0  0.0      0.0        0.0  ...   40.65000     12.61    9.55   \n",
      "360893      1.0  0.0      0.0        1.0  ...  334.12001     55.30  115.76   \n",
      "360895      0.0  1.0      0.0        0.0  ...    0.00000      0.00    0.00   \n",
      "...         ...  ...      ...        ...  ...        ...       ...     ...   \n",
      "501093      0.0  1.0      0.0        0.0  ...    0.00000      0.00    0.00   \n",
      "501094      1.0  0.0      0.0        0.0  ...    0.00000     19.41    0.00   \n",
      "501099      0.0  0.0      1.0        0.0  ...   39.19000     26.47    0.00   \n",
      "501102      1.0  0.0      0.0        0.0  ...  180.91000     96.87    5.42   \n",
      "501104      1.0  0.0      0.0        0.0  ...   99.86000    277.58   87.93   \n",
      "\n",
      "        smoksupp  pet_food  persprod  persserv  drugsupp   houskeep     totexp  \n",
      "cuid                                                                            \n",
      "360889   0.00000     19.56      0.00      0.00      0.00    9.63000  172.66000  \n",
      "360890   0.00000      0.00      3.76      0.00      0.00    0.00000   40.12000  \n",
      "360892   3.46000      0.00      0.00      0.00      0.00    0.00000   66.27000  \n",
      "360893  12.04544     12.98     60.29      0.00     69.58   38.42218  698.49763  \n",
      "360895   0.00000      0.00      0.00      0.00      0.00    0.00000    0.00000  \n",
      "...          ...       ...       ...       ...       ...        ...        ...  \n",
      "501093   0.00000      0.00      0.00      0.00      0.00    0.00000    0.00000  \n",
      "501094   0.00000      0.00      0.00      0.00      0.00    0.00000   19.41000  \n",
      "501099   0.00000      0.00      0.00      0.00      0.00    9.83000   75.49000  \n",
      "501102   0.00000      0.00      3.23      0.00      9.29  106.05132  401.77132  \n",
      "501104   0.00000      0.00      0.00     41.88     24.28   38.90000  570.43000  \n",
      "\n",
      "[28197 rows x 35 columns]\n"
     ]
    }
   ],
   "source": [
    "#print(df_sumstats)"
   ]
  },
  {
   "cell_type": "code",
   "execution_count": null,
   "id": "6afd620c",
   "metadata": {},
   "outputs": [],
   "source": [
    "df_sumstats=df_sumstats[df_sumstats['totexp']>0]"
   ]
  },
  {
   "cell_type": "code",
   "execution_count": null,
   "id": "5d77b59d",
   "metadata": {},
   "outputs": [
    {
     "name": "stdout",
     "output_type": "stream",
     "text": [
      "27276\n"
     ]
    }
   ],
   "source": [
    "print(len(df_sumstats))"
   ]
  },
  {
   "cell_type": "code",
   "execution_count": null,
   "id": "c437ce7a",
   "metadata": {},
   "outputs": [],
   "source": [
    "df_sumstats.loc[df_sumstats['alcbev']>0, 'alc_purchase']=1\n",
    "df_sumstats.loc[df_sumstats['alcbev']<0.01, 'alc_purchase']=0"
   ]
  },
  {
   "cell_type": "code",
   "execution_count": null,
   "id": "c8a092cf",
   "metadata": {},
   "outputs": [
    {
     "name": "stdout",
     "output_type": "stream",
     "text": [
      "                    count          mean           std         50%\n",
      "male              27276.0      0.463154      0.498650      0.0000\n",
      "age_ref           27276.0     53.017378     17.094089     54.0000\n",
      "hispanic          27276.0      0.129564      0.335830      0.0000\n",
      "nonhisp_white     27276.0      0.695703      0.460117      1.0000\n",
      "nonhisp_black     27276.0      0.097302      0.296374      0.0000\n",
      "nonhisp_asian     27276.0      0.059833      0.237181      0.0000\n",
      "college           27276.0      0.708168      0.454614      1.0000\n",
      "hs                27276.0      0.212861      0.409338      0.0000\n",
      "less_hs           27276.0      0.087183      0.282108      0.0000\n",
      "has_child         27276.0      0.365083      0.481462      0.0000\n",
      "haschild_under18   9958.0      0.713898      0.451960      1.0000\n",
      "urban             27276.0      0.941157      0.235335      1.0000\n",
      "pres_married      27276.0      0.532153      0.498974      1.0000\n",
      "wid_div_sep       27276.0      0.266131      0.441942      0.0000\n",
      "never_married     27276.0      0.205199      0.403854      0.0000\n",
      "single            27276.0      0.467847      0.498974      0.0000\n",
      "homeowner         27276.0      0.668426      0.470787      1.0000\n",
      "renter            27276.0      0.315845      0.464860      0.0000\n",
      "post_covid        27276.0      0.346422      0.475838      0.0000\n",
      "northeast         27276.0      0.169930      0.375578      0.0000\n",
      "midwest           27276.0      0.198819      0.399119      0.0000\n",
      "south             27276.0      0.330400      0.470366      0.0000\n",
      "west              27276.0      0.267268      0.442541      0.0000\n",
      "employed          27276.0      0.657831      0.474445      1.0000\n",
      "finlwt21          27276.0  46812.581042  24592.276752  43363.0365\n",
      "alc_purchase      27276.0      0.354194      0.478277      0.0000\n",
      "            count        mean         std        50%\n",
      "foodhome  27276.0  189.291244  168.310162  148.72000\n",
      "foodaway  27276.0  111.224182  165.531994   62.62482\n",
      "alcbev    27276.0   20.796363   58.421839    0.00000\n",
      "smoksupp  27276.0    6.463117   26.588371    0.00000\n",
      "pet_food  27276.0    9.736577   40.562374    0.00000\n",
      "persprod  27276.0   16.435745   37.797771    1.06000\n",
      "persserv  27276.0   12.776232   51.453649    0.00000\n",
      "drugsupp  27276.0   19.063372   96.743010    0.00000\n",
      "houskeep  27276.0   31.885075   63.075418   13.51000\n"
     ]
    }
   ],
   "source": [
    "print(df_sumstats[sum_stats+['alc_purchase']].describe().loc[['count', 'mean', 'std', '50%']].T)\n",
    "# Note that (for some reason) close to 1,000 observations have no state/division/region reported!\n",
    "print(df_sumstats[expend_cols].describe().loc[['count', 'mean', 'std', '50%']].T)"
   ]
  },
  {
   "cell_type": "markdown",
   "id": "89830165",
   "metadata": {},
   "source": [
    "# 4. Analysis"
   ]
  },
  {
   "cell_type": "markdown",
   "id": "4d792100",
   "metadata": {},
   "source": [
    "## 4.1 Data prep"
   ]
  },
  {
   "cell_type": "code",
   "execution_count": null,
   "id": "6d74aae4",
   "metadata": {},
   "outputs": [],
   "source": [
    "reg_controls=['male', 'hispanic', 'nonhisp_white', 'nonhisp_black', 'nonhisp_asian', \n",
    "              'college', 'hs', 'has_child', 'urban', 'single', 'homeowner', 'post_covid', 'northeast', 'midwest', 'west', \n",
    "             'inc_rank', 'finlwt21', 'year', 'quarter', 'employed']\n",
    "\n",
    "expend_cols=['foodhome', 'foodaway', 'alcbev', 'smoksupp', 'pet_food', \n",
    "             'persprod', 'persserv', 'drugsupp', 'houskeep']"
   ]
  },
  {
   "cell_type": "code",
   "execution_count": null,
   "id": "dbd28efe",
   "metadata": {},
   "outputs": [
    {
     "name": "stdout",
     "output_type": "stream",
     "text": [
      "                 count          mean           std          min           25%  \\\n",
      "male           28197.0      0.463063      0.498643     0.000000      0.000000   \n",
      "hispanic       28197.0      0.128702      0.334875     0.000000      0.000000   \n",
      "nonhisp_white  28197.0      0.695712      0.460113     0.000000      0.000000   \n",
      "nonhisp_black  28197.0      0.098734      0.298310     0.000000      0.000000   \n",
      "nonhisp_asian  28197.0      0.059297      0.236184     0.000000      0.000000   \n",
      "college        28197.0      0.705891      0.455649     0.000000      0.000000   \n",
      "hs             28197.0      0.214562      0.410525     0.000000      0.000000   \n",
      "has_child      28197.0      0.362663      0.480777     0.000000      0.000000   \n",
      "urban          28197.0      0.941022      0.235588     0.000000      1.000000   \n",
      "single         28197.0      0.471540      0.499198     0.000000      0.000000   \n",
      "homeowner      28197.0      0.671383      0.469719     0.000000      0.000000   \n",
      "post_covid     28197.0      0.348193      0.476406     0.000000      0.000000   \n",
      "northeast      28197.0      0.169451      0.375156     0.000000      0.000000   \n",
      "midwest        28197.0      0.197681      0.398257     0.000000      0.000000   \n",
      "west           28197.0      0.266305      0.442033     0.000000      0.000000   \n",
      "inc_rank       28197.0      0.515248      0.286183     0.000226      0.265171   \n",
      "finlwt21       28197.0  46918.761619  24735.732713  1140.608000  32200.762000   \n",
      "year           28197.0   2019.012625      1.442735  2017.000000   2018.000000   \n",
      "quarter        28197.0      2.484165      1.121537     1.000000      1.000000   \n",
      "employed       28197.0      0.656666      0.474830     0.000000      0.000000   \n",
      "\n",
      "                        50%           75%        max  \n",
      "male               0.000000      1.000000       1.00  \n",
      "hispanic           0.000000      0.000000       1.00  \n",
      "nonhisp_white      1.000000      1.000000       1.00  \n",
      "nonhisp_black      0.000000      0.000000       1.00  \n",
      "nonhisp_asian      0.000000      0.000000       1.00  \n",
      "college            1.000000      1.000000       1.00  \n",
      "hs                 0.000000      0.000000       1.00  \n",
      "has_child          0.000000      1.000000       1.00  \n",
      "urban              1.000000      1.000000       1.00  \n",
      "single             0.000000      1.000000       1.00  \n",
      "homeowner          1.000000      1.000000       1.00  \n",
      "post_covid         0.000000      1.000000       1.00  \n",
      "northeast          0.000000      0.000000       1.00  \n",
      "midwest            0.000000      0.000000       1.00  \n",
      "west               0.000000      1.000000       1.00  \n",
      "inc_rank           0.519306      0.764902       1.00  \n",
      "finlwt21       43436.419000  56917.690000  389925.77  \n",
      "year            2019.000000   2020.000000    2021.00  \n",
      "quarter            2.000000      3.000000       4.00  \n",
      "employed           1.000000      1.000000       1.00  \n",
      "            count        mean         std  min    25%     50%        75%  \\\n",
      "foodhome  28197.0  183.108415  168.923525  0.0  65.64  142.99  255.21000   \n",
      "foodaway  28197.0  107.591261  164.002130  0.0   9.29   58.71  146.75000   \n",
      "alcbev    28197.0   20.117090   57.578557  0.0   0.00    0.00   15.30002   \n",
      "smoksupp  28197.0    6.252012   26.175745  0.0   0.00    0.00    0.00000   \n",
      "pet_food  28197.0    9.418550   39.931930  0.0   0.00    0.00    2.42000   \n",
      "persprod  28197.0   15.898903   37.289953  0.0   0.00    0.00   16.15434   \n",
      "persserv  28197.0   12.358921   50.657259  0.0   0.00    0.00    0.00000   \n",
      "drugsupp  28197.0   18.440704   95.210197  0.0   0.00    0.00   13.03956   \n",
      "houskeep  28197.0   30.843611   62.295081  0.0   0.00   12.30   37.75396   \n",
      "\n",
      "              max  \n",
      "foodhome  3528.68  \n",
      "foodaway  9678.85  \n",
      "alcbev    2241.21  \n",
      "smoksupp   551.56  \n",
      "pet_food  3442.88  \n",
      "persprod   744.52  \n",
      "persserv  4873.95  \n",
      "drugsupp  6010.64  \n",
      "houskeep  2612.81  \n"
     ]
    }
   ],
   "source": [
    "df_analysis=df.groupby(['cuid']).agg({col: 'max' for col in reg_controls} | {col: 'sum' for col in expend_cols})"
   ]
  },
  {
   "cell_type": "code",
   "execution_count": null,
   "id": "f898b5da",
   "metadata": {},
   "outputs": [],
   "source": [
    "df_analysis['totexp']=df_analysis[expend_cols].sum(axis=1)\n",
    "df_analysis=df_analysis[df_analysis['totexp']>0]"
   ]
  },
  {
   "cell_type": "code",
   "execution_count": null,
   "id": "629ff99b",
   "metadata": {},
   "outputs": [
    {
     "name": "stdout",
     "output_type": "stream",
     "text": [
      "                 count          mean           std          min          25%  \\\n",
      "male           27276.0      0.463154      0.498650     0.000000      0.00000   \n",
      "hispanic       27276.0      0.129564      0.335830     0.000000      0.00000   \n",
      "nonhisp_white  27276.0      0.695703      0.460117     0.000000      0.00000   \n",
      "nonhisp_black  27276.0      0.097302      0.296374     0.000000      0.00000   \n",
      "nonhisp_asian  27276.0      0.059833      0.237181     0.000000      0.00000   \n",
      "college        27276.0      0.708168      0.454614     0.000000      0.00000   \n",
      "hs             27276.0      0.212861      0.409338     0.000000      0.00000   \n",
      "has_child      27276.0      0.365083      0.481462     0.000000      0.00000   \n",
      "urban          27276.0      0.941157      0.235335     0.000000      1.00000   \n",
      "single         27276.0      0.467847      0.498974     0.000000      0.00000   \n",
      "homeowner      27276.0      0.668426      0.470787     0.000000      0.00000   \n",
      "post_covid     27276.0      0.346422      0.475838     0.000000      0.00000   \n",
      "northeast      27276.0      0.169930      0.375578     0.000000      0.00000   \n",
      "midwest        27276.0      0.198819      0.399119     0.000000      0.00000   \n",
      "west           27276.0      0.267268      0.442541     0.000000      0.00000   \n",
      "inc_rank       27276.0      0.524963      0.282086     0.000226      0.28166   \n",
      "finlwt21       27276.0  46812.581042  24592.276752  1140.608000  32200.13175   \n",
      "year           27276.0   2019.008726      1.442982  2017.000000   2018.00000   \n",
      "quarter        27276.0      2.480019      1.121118     1.000000      1.00000   \n",
      "employed       27276.0      0.657831      0.474445     0.000000      0.00000   \n",
      "\n",
      "                       50%           75%        max  \n",
      "male               0.00000      1.000000       1.00  \n",
      "hispanic           0.00000      0.000000       1.00  \n",
      "nonhisp_white      1.00000      1.000000       1.00  \n",
      "nonhisp_black      0.00000      0.000000       1.00  \n",
      "nonhisp_asian      0.00000      0.000000       1.00  \n",
      "college            1.00000      1.000000       1.00  \n",
      "hs                 0.00000      0.000000       1.00  \n",
      "has_child          0.00000      1.000000       1.00  \n",
      "urban              1.00000      1.000000       1.00  \n",
      "single             0.00000      1.000000       1.00  \n",
      "homeowner          1.00000      1.000000       1.00  \n",
      "post_covid         0.00000      1.000000       1.00  \n",
      "northeast          0.00000      0.000000       1.00  \n",
      "midwest            0.00000      0.000000       1.00  \n",
      "west               0.00000      1.000000       1.00  \n",
      "inc_rank           0.53081      0.770246       1.00  \n",
      "finlwt21       43363.03650  56760.383750  389925.77  \n",
      "year            2019.00000   2020.000000    2021.00  \n",
      "quarter            2.00000      3.000000       4.00  \n",
      "employed           1.00000      1.000000       1.00  \n",
      "            count        mean         std  min    25%        50%         75%  \\\n",
      "foodhome  27276.0  189.291244  168.310162  0.0  73.12  148.72000  260.062510   \n",
      "foodaway  27276.0  111.224182  165.531994  0.0  13.37   62.62482  151.616638   \n",
      "alcbev    27276.0   20.796363   58.421839  0.0   0.00    0.00000   16.762500   \n",
      "smoksupp  27276.0    6.463117   26.588371  0.0   0.00    0.00000    0.000000   \n",
      "pet_food  27276.0    9.736577   40.562374  0.0   0.00    0.00000    3.760000   \n",
      "persprod  27276.0   16.435745   37.797771  0.0   0.00    1.06000   16.962500   \n",
      "persserv  27276.0   12.776232   51.453649  0.0   0.00    0.00000    0.000000   \n",
      "drugsupp  27276.0   19.063372   96.743010  0.0   0.00    0.00000   13.980000   \n",
      "houskeep  27276.0   31.885075   63.075418  0.0   0.00   13.51000   39.090815   \n",
      "\n",
      "              max  \n",
      "foodhome  3528.68  \n",
      "foodaway  9678.85  \n",
      "alcbev    2241.21  \n",
      "smoksupp   551.56  \n",
      "pet_food  3442.88  \n",
      "persprod   744.52  \n",
      "persserv  4873.95  \n",
      "drugsupp  6010.64  \n",
      "houskeep  2612.81  \n"
     ]
    }
   ],
   "source": [
    "#print(df_analysis[reg_controls].describe().T)\n",
    "#print(df_analysis[expend_cols].describe().T)"
   ]
  },
  {
   "cell_type": "code",
   "execution_count": null,
   "id": "de054828",
   "metadata": {},
   "outputs": [
    {
     "name": "stdout",
     "output_type": "stream",
     "text": [
      "                 count          mean           std          50%\n",
      "male           27276.0      0.463154      0.498650      0.00000\n",
      "hispanic       27276.0      0.129564      0.335830      0.00000\n",
      "nonhisp_white  27276.0      0.695703      0.460117      1.00000\n",
      "nonhisp_black  27276.0      0.097302      0.296374      0.00000\n",
      "nonhisp_asian  27276.0      0.059833      0.237181      0.00000\n",
      "college        27276.0      0.708168      0.454614      1.00000\n",
      "hs             27276.0      0.212861      0.409338      0.00000\n",
      "has_child      27276.0      0.365083      0.481462      0.00000\n",
      "urban          27276.0      0.941157      0.235335      1.00000\n",
      "single         27276.0      0.467847      0.498974      0.00000\n",
      "homeowner      27276.0      0.668426      0.470787      1.00000\n",
      "post_covid     27276.0      0.346422      0.475838      0.00000\n",
      "northeast      27276.0      0.169930      0.375578      0.00000\n",
      "midwest        27276.0      0.198819      0.399119      0.00000\n",
      "west           27276.0      0.267268      0.442541      0.00000\n",
      "inc_rank       27276.0      0.524963      0.282086      0.53081\n",
      "finlwt21       27276.0  46812.581042  24592.276752  43363.03650\n",
      "year           27276.0   2019.008726      1.442982   2019.00000\n",
      "quarter        27276.0      2.480019      1.121118      2.00000\n",
      "employed       27276.0      0.657831      0.474445      1.00000\n",
      "            count        mean         std        50%\n",
      "foodhome  27276.0  189.291244  168.310162  148.72000\n",
      "foodaway  27276.0  111.224182  165.531994   62.62482\n",
      "alcbev    27276.0   20.796363   58.421839    0.00000\n",
      "smoksupp  27276.0    6.463117   26.588371    0.00000\n",
      "pet_food  27276.0    9.736577   40.562374    0.00000\n",
      "persprod  27276.0   16.435745   37.797771    1.06000\n",
      "persserv  27276.0   12.776232   51.453649    0.00000\n",
      "drugsupp  27276.0   19.063372   96.743010    0.00000\n",
      "houskeep  27276.0   31.885075   63.075418   13.51000\n",
      "totexp    27276.0  417.671906  371.398420  324.94000\n"
     ]
    }
   ],
   "source": [
    "#print(df_analysis[reg_controls].describe().loc[['count', 'mean', 'std', '50%']].T)\n",
    "#print(df_analysis[expend_cols+['totexp']].describe().loc[['count', 'mean', 'std', '50%']].T)"
   ]
  },
  {
   "cell_type": "markdown",
   "id": "a94e03dd",
   "metadata": {},
   "source": [
    "## 4.2 Track average expenditures on alcohol, and *conditional* average expenditures on alcohol, over time"
   ]
  },
  {
   "cell_type": "code",
   "execution_count": null,
   "id": "4f710b3b",
   "metadata": {},
   "outputs": [],
   "source": [
    "df_grouped1=df_analysis.groupby(['year', 'quarter']).agg({col: 'mean' for col in expend_cols})"
   ]
  },
  {
   "cell_type": "code",
   "execution_count": null,
   "id": "fe79d694",
   "metadata": {},
   "outputs": [
    {
     "name": "stdout",
     "output_type": "stream",
     "text": [
      "year  quarter\n",
      "2017  1          20.656453\n",
      "      2          20.183209\n",
      "      3          18.627521\n",
      "      4          21.816673\n",
      "2018  1          23.547106\n",
      "      2          19.225022\n",
      "      3          19.423312\n",
      "      4          23.477962\n",
      "2019  1          19.428220\n",
      "      2          18.951737\n",
      "      3          22.074743\n",
      "      4          23.827801\n",
      "2020  1          21.531234\n",
      "      2          15.944183\n",
      "      3          19.033250\n",
      "      4          22.844964\n",
      "2021  1          19.378820\n",
      "      2          22.644258\n",
      "      3          20.096021\n",
      "      4          21.812303\n",
      "Name: alcbev, dtype: float64\n"
     ]
    }
   ],
   "source": [
    "print(df_grouped1['alcbev'])"
   ]
  },
  {
   "cell_type": "code",
   "execution_count": null,
   "id": "e717947d",
   "metadata": {},
   "outputs": [],
   "source": [
    "df_grouped2=df_analysis[['alcbev', 'year', 'quarter']][df_analysis['alcbev']>0].groupby(['year', 'quarter']).mean()"
   ]
  },
  {
   "cell_type": "code",
   "execution_count": null,
   "id": "412172a2",
   "metadata": {},
   "outputs": [
    {
     "name": "stdout",
     "output_type": "stream",
     "text": [
      "                 alcbev\n",
      "year quarter           \n",
      "2017 1        54.012508\n",
      "     2        54.205272\n",
      "     3        50.387088\n",
      "     4        56.723350\n",
      "2018 1        65.126213\n",
      "     2        51.724463\n",
      "     3        51.697028\n",
      "     4        62.442446\n",
      "2019 1        51.995526\n",
      "     2        52.960468\n",
      "     3        55.478410\n",
      "     4        64.951658\n",
      "2020 1        62.783031\n",
      "     2        59.274847\n",
      "     3        62.952220\n",
      "     4        71.201009\n",
      "2021 1        62.701249\n",
      "     2        66.792111\n",
      "     3        57.698767\n",
      "     4        64.082397\n"
     ]
    }
   ],
   "source": [
    "print(df_grouped2)"
   ]
  },
  {
   "cell_type": "markdown",
   "id": "1bd0f0f2",
   "metadata": {},
   "source": [
    "## 4.3 Alcohol purchase frequency over time"
   ]
  },
  {
   "cell_type": "code",
   "execution_count": null,
   "id": "e061536e",
   "metadata": {},
   "outputs": [],
   "source": [
    "df_analysis.loc[df_analysis['alcbev']>0, 'alc_purchase']=1\n",
    "df_analysis.loc[df_analysis['alcbev']<0.01, 'alc_purchase']=0"
   ]
  },
  {
   "cell_type": "code",
   "execution_count": null,
   "id": "9c7c89ca",
   "metadata": {},
   "outputs": [],
   "source": [
    "df_grouped3=df_analysis[['alc_purchase', 'year', 'quarter']].groupby(['year', 'quarter']).mean()"
   ]
  },
  {
   "cell_type": "code",
   "execution_count": null,
   "id": "0f81d276",
   "metadata": {},
   "outputs": [
    {
     "name": "stdout",
     "output_type": "stream",
     "text": [
      "              alc_purchase\n",
      "year quarter              \n",
      "2017 1            0.382438\n",
      "     2            0.372348\n",
      "     3            0.369688\n",
      "     4            0.384615\n",
      "2018 1            0.361561\n",
      "     2            0.371681\n",
      "     3            0.375714\n",
      "     4            0.375994\n",
      "2019 1            0.373652\n",
      "     2            0.357847\n",
      "     3            0.397898\n",
      "     4            0.366854\n",
      "2020 1            0.342947\n",
      "     2            0.268987\n",
      "     3            0.302344\n",
      "     4            0.320852\n",
      "2021 1            0.309066\n",
      "     2            0.339026\n",
      "     3            0.348292\n",
      "     4            0.340379\n"
     ]
    }
   ],
   "source": [
    "print(df_grouped3)"
   ]
  },
  {
   "cell_type": "markdown",
   "id": "bc7e8adb",
   "metadata": {},
   "source": [
    "## Alcohol shares (average) over time"
   ]
  },
  {
   "cell_type": "code",
   "execution_count": null,
   "id": "5ec67529",
   "metadata": {},
   "outputs": [],
   "source": [
    "df_analysis['alc_share']=df_analysis['alcbev']/(df_analysis['foodaway']+df_analysis['foodhome']+df_analysis['alcbev'])"
   ]
  },
  {
   "cell_type": "code",
   "execution_count": null,
   "id": "d5c0c664",
   "metadata": {},
   "outputs": [
    {
     "name": "stdout",
     "output_type": "stream",
     "text": [
      "             alcbev     alc_share\n",
      "count  27276.000000  27163.000000\n",
      "mean      20.796363      0.049276\n",
      "std       58.421839      0.102598\n",
      "min        0.000000      0.000000\n",
      "25%        0.000000      0.000000\n",
      "50%        0.000000      0.000000\n",
      "75%       16.762500      0.053230\n",
      "max     2241.210000      1.000000\n"
     ]
    }
   ],
   "source": [
    "outcomes=['alcbev', 'alc_share']\n",
    "print(df_analysis[outcomes].describe())"
   ]
  },
  {
   "cell_type": "code",
   "execution_count": null,
   "id": "ac4ef0cf",
   "metadata": {},
   "outputs": [
    {
     "ename": "NameError",
     "evalue": "name 'df_analysis' is not defined",
     "output_type": "error",
     "traceback": [
      "\u001b[0;31m---------------------------------------------------------------------------\u001b[0m",
      "\u001b[0;31mNameError\u001b[0m                                 Traceback (most recent call last)",
      "\u001b[1;32m/home/parker/Documents/research.ipynb/alcohol use during pandemic.ipynb Cell 45\u001b[0m line \u001b[0;36m1\n\u001b[0;32m----> <a href='vscode-notebook-cell:/home/parker/Documents/research.ipynb/alcohol%20use%20during%20pandemic.ipynb#X62sZmlsZQ%3D%3D?line=0'>1</a>\u001b[0m df_grouped4\u001b[39m=\u001b[39mdf_analysis[[\u001b[39m'\u001b[39m\u001b[39malc_share\u001b[39m\u001b[39m'\u001b[39m, \u001b[39m'\u001b[39m\u001b[39myear\u001b[39m\u001b[39m'\u001b[39m, \u001b[39m'\u001b[39m\u001b[39mquarter\u001b[39m\u001b[39m'\u001b[39m]]\u001b[39m.\u001b[39mgroupby([\u001b[39m'\u001b[39m\u001b[39myear\u001b[39m\u001b[39m'\u001b[39m, \u001b[39m'\u001b[39m\u001b[39mquarter\u001b[39m\u001b[39m'\u001b[39m])\u001b[39m.\u001b[39mmean()\n",
      "\u001b[0;31mNameError\u001b[0m: name 'df_analysis' is not defined"
     ]
    }
   ],
   "source": [
    "df_grouped4=df_analysis[['alc_share', 'year', 'quarter']].groupby(['year', 'quarter']).mean()"
   ]
  },
  {
   "cell_type": "code",
   "execution_count": null,
   "id": "cad9f04a",
   "metadata": {},
   "outputs": [
    {
     "name": "stdout",
     "output_type": "stream",
     "text": [
      "              alc_share\n",
      "year quarter           \n",
      "2017 1         0.049614\n",
      "     2         0.049151\n",
      "     3         0.052891\n",
      "     4         0.050795\n",
      "2018 1         0.047859\n",
      "     2         0.047722\n",
      "     3         0.053402\n",
      "     4         0.053470\n",
      "2019 1         0.051155\n",
      "     2         0.046906\n",
      "     3         0.053131\n",
      "     4         0.052746\n",
      "2020 1         0.045923\n",
      "     2         0.044577\n",
      "     3         0.047626\n",
      "     4         0.051820\n",
      "2021 1         0.043376\n",
      "     2         0.046615\n",
      "     3         0.046427\n",
      "     4         0.050752\n"
     ]
    }
   ],
   "source": [
    "print(df_grouped4)"
   ]
  },
  {
   "cell_type": "markdown",
   "id": "7b5caba0",
   "metadata": {},
   "source": [
    "# 5. Idea to try: Calculating total alcoholic beverages expenditures"
   ]
  },
  {
   "cell_type": "code",
   "execution_count": null,
   "id": "9e953b72",
   "metadata": {},
   "outputs": [
    {
     "name": "stdout",
     "output_type": "stream",
     "text": [
      "        male  hispanic  nonhisp_white  nonhisp_black  nonhisp_asian  college  \\\n",
      "cuid                                                                           \n",
      "360889   1.0       0.0            1.0            0.0            0.0      1.0   \n",
      "360890   0.0       0.0            1.0            0.0            0.0      0.0   \n",
      "360892   1.0       0.0            1.0            0.0            0.0      1.0   \n",
      "360893   0.0       0.0            1.0            0.0            0.0      1.0   \n",
      "360898   0.0       0.0            0.0            0.0            1.0      1.0   \n",
      "...      ...       ...            ...            ...            ...      ...   \n",
      "501090   0.0       0.0            1.0            0.0            0.0      1.0   \n",
      "501094   1.0       0.0            1.0            0.0            0.0      1.0   \n",
      "501099   1.0       0.0            1.0            0.0            0.0      0.0   \n",
      "501102   0.0       0.0            0.0            1.0            0.0      1.0   \n",
      "501104   0.0       0.0            0.0            0.0            0.0      1.0   \n",
      "\n",
      "         hs  has_child  urban  single  ...     alcbev  smoksupp  pet_food  \\\n",
      "cuid                                   ...                                  \n",
      "360889  0.0        0.0    1.0     1.0  ...    0.00000   0.00000  19.56000   \n",
      "360890  1.0        0.0    1.0     1.0  ...    0.00000   0.00000   0.00000   \n",
      "360892  0.0        0.0    1.0     1.0  ...    9.55000   3.46000   0.00000   \n",
      "360893  0.0        1.0    1.0     0.0  ...  115.76000  12.04544  12.98000   \n",
      "360898  0.0        0.0    1.0     0.0  ...   31.07882   0.00000   5.18851   \n",
      "...     ...        ...    ...     ...  ...        ...       ...       ...   \n",
      "501090  0.0        1.0    1.0     0.0  ...    0.00000   0.00000   0.00000   \n",
      "501094  0.0        0.0    1.0     1.0  ...    0.00000   0.00000   0.00000   \n",
      "501099  0.0        0.0    1.0     1.0  ...    0.00000   0.00000   0.00000   \n",
      "501102  0.0        0.0    1.0     1.0  ...    5.42000   0.00000   0.00000   \n",
      "501104  0.0        0.0    1.0     0.0  ...   87.93000   0.00000   0.00000   \n",
      "\n",
      "        persprod  persserv  drugsupp   houskeep     totexp  alc_purchase  \\\n",
      "cuid                                                                       \n",
      "360889      0.00      0.00      0.00    9.63000  172.66000           0.0   \n",
      "360890      3.76      0.00      0.00    0.00000   40.12000           0.0   \n",
      "360892      0.00      0.00      0.00    0.00000   66.27000           1.0   \n",
      "360893     60.29      0.00     69.58   38.42218  698.49763           1.0   \n",
      "360898     16.77      0.00      0.00    0.00000  462.72996           1.0   \n",
      "...          ...       ...       ...        ...        ...           ...   \n",
      "501090      0.00      0.00      0.00    0.00000  206.35000           0.0   \n",
      "501094      0.00      0.00      0.00    0.00000   19.41000           0.0   \n",
      "501099      0.00      0.00      0.00    9.83000   75.49000           0.0   \n",
      "501102      3.23      0.00      9.29  106.05132  401.77132           1.0   \n",
      "501104      0.00     41.88     24.28   38.90000  570.43000           1.0   \n",
      "\n",
      "        alc_share  \n",
      "cuid               \n",
      "360889   0.000000  \n",
      "360890   0.000000  \n",
      "360892   0.152046  \n",
      "360893   0.229146  \n",
      "360898   0.070510  \n",
      "...           ...  \n",
      "501090   0.000000  \n",
      "501094   0.000000  \n",
      "501099   0.000000  \n",
      "501102   0.019138  \n",
      "501104   0.188946  \n",
      "\n",
      "[27276 rows x 32 columns]\n"
     ]
    }
   ],
   "source": [
    "print(df_analysis)"
   ]
  },
  {
   "cell_type": "code",
   "execution_count": null,
   "id": "b53f3e1a",
   "metadata": {},
   "outputs": [],
   "source": [
    "df_analysis['alc_weighted']=df_analysis['alcbev']*df_analysis['finlwt21']"
   ]
  },
  {
   "cell_type": "code",
   "execution_count": null,
   "id": "041874e2",
   "metadata": {},
   "outputs": [
    {
     "name": "stdout",
     "output_type": "stream",
     "text": [
      "Index(['male', 'hispanic', 'nonhisp_white', 'nonhisp_black', 'nonhisp_asian',\n",
      "       'college', 'hs', 'has_child', 'urban', 'single', 'homeowner',\n",
      "       'post_covid', 'northeast', 'midwest', 'west', 'inc_rank', 'finlwt21',\n",
      "       'year', 'quarter', 'employed', 'foodhome', 'foodaway', 'alcbev',\n",
      "       'smoksupp', 'pet_food', 'persprod', 'persserv', 'drugsupp', 'houskeep',\n",
      "       'totexp', 'alc_purchase', 'alc_share', 'alc_weighted'],\n",
      "      dtype='object')\n",
      "      alc_weighted        alcbev      finlwt21\n",
      "year                                          \n",
      "2017  4.928042e+09  115168.54572  2.523008e+08\n",
      "2018  5.163671e+09  114774.01302  2.534062e+08\n",
      "2019  5.151083e+09  109236.68397  2.563648e+08\n",
      "2020  4.480041e+09  104116.37492  2.543089e+08\n",
      "2021  4.976264e+09  123945.97180  2.604794e+08\n"
     ]
    }
   ],
   "source": [
    "print(df_analysis.columns)\n",
    "df_grouped5=df_analysis[['alc_weighted', 'alcbev', 'finlwt21', 'year']].groupby(['year']).sum()\n",
    "print(df_grouped5)"
   ]
  },
  {
   "cell_type": "markdown",
   "id": "332c8174",
   "metadata": {},
   "source": [
    "# 6. Regression results"
   ]
  },
  {
   "cell_type": "code",
   "execution_count": null,
   "id": "64d6dcd0",
   "metadata": {},
   "outputs": [],
   "source": [
    "import statsmodels.formula.api as smf"
   ]
  },
  {
   "cell_type": "code",
   "execution_count": null,
   "id": "46c2af49",
   "metadata": {},
   "outputs": [
    {
     "name": "stdout",
     "output_type": "stream",
     "text": [
      "                            OLS Regression Results                            \n",
      "==============================================================================\n",
      "Dep. Variable:           alc_purchase   R-squared:                       0.002\n",
      "Model:                            OLS   Adj. R-squared:                  0.002\n",
      "Method:                 Least Squares   F-statistic:                     67.22\n",
      "Date:                Mon, 15 May 2023   Prob (F-statistic):           2.54e-16\n",
      "Time:                        19:11:15   Log-Likelihood:                -18551.\n",
      "No. Observations:               27276   AIC:                         3.711e+04\n",
      "Df Residuals:                   27274   BIC:                         3.712e+04\n",
      "Df Model:                           1                                         \n",
      "Covariance Type:            nonrobust                                         \n",
      "==============================================================================\n",
      "                 coef    std err          t      P>|t|      [0.025      0.975]\n",
      "------------------------------------------------------------------------------\n",
      "Intercept      0.3715      0.004    103.824      0.000       0.364       0.378\n",
      "post_covid    -0.0498      0.006     -8.199      0.000      -0.062      -0.038\n",
      "==============================================================================\n",
      "Omnibus:                   131531.683   Durbin-Watson:                   2.017\n",
      "Prob(Omnibus):                  0.000   Jarque-Bera (JB):             4661.193\n",
      "Skew:                           0.607   Prob(JB):                         0.00\n",
      "Kurtosis:                       1.379   Cond. No.                         2.42\n",
      "==============================================================================\n",
      "\n",
      "Notes:\n",
      "[1] Standard Errors assume that the covariance matrix of the errors is correctly specified.\n"
     ]
    }
   ],
   "source": [
    "reg=smf.ols(formula='alc_purchase~post_covid', data=df_analysis)\n",
    "results=reg.fit()\n",
    "print(results.summary())"
   ]
  },
  {
   "cell_type": "code",
   "execution_count": null,
   "id": "a67c7ab8",
   "metadata": {},
   "outputs": [
    {
     "name": "stdout",
     "output_type": "stream",
     "text": [
      "Intercept     56.406155\n",
      "post_covid     7.338507\n",
      "dtype: float64\n",
      "                            OLS Regression Results                            \n",
      "==============================================================================\n",
      "Dep. Variable:                 alcbev   R-squared:                       0.002\n",
      "Model:                            OLS   Adj. R-squared:                  0.001\n",
      "Method:                 Least Squares   F-statistic:                     15.16\n",
      "Date:                Mon, 15 May 2023   Prob (F-statistic):           9.94e-05\n",
      "Time:                        19:10:13   Log-Likelihood:                -56743.\n",
      "No. Observations:                9661   AIC:                         1.135e+05\n",
      "Df Residuals:                    9659   BIC:                         1.135e+05\n",
      "Df Model:                           1                                         \n",
      "Covariance Type:            nonrobust                                         \n",
      "==============================================================================\n",
      "                 coef    std err          t      P>|t|      [0.025      0.975]\n",
      "------------------------------------------------------------------------------\n",
      "Intercept     56.4062      1.057     53.361      0.000      54.334      58.478\n",
      "post_covid     7.3385      1.885      3.894      0.000       3.644      11.033\n",
      "==============================================================================\n",
      "Omnibus:                    12668.661   Durbin-Watson:                   2.007\n",
      "Prob(Omnibus):                  0.000   Jarque-Bera (JB):          4722058.114\n",
      "Skew:                           7.126   Prob(JB):                         0.00\n",
      "Kurtosis:                     110.366   Cond. No.                         2.42\n",
      "==============================================================================\n",
      "\n",
      "Notes:\n",
      "[1] Standard Errors assume that the covariance matrix of the errors is correctly specified.\n"
     ]
    }
   ],
   "source": [
    "reg=smf.ols(formula='alcbev~post_covid', data=df_analysis[df_analysis['alcbev']>0])\n",
    "results=reg.fit()\n",
    "print(results.summary())"
   ]
  },
  {
   "cell_type": "code",
   "execution_count": null,
   "id": "ed1822ec",
   "metadata": {},
   "outputs": [],
   "source": []
  }
 ],
 "metadata": {
  "kernelspec": {
   "display_name": "Python 3 (ipykernel)",
   "language": "python",
   "name": "python3"
  },
  "language_info": {
   "codemirror_mode": {
    "name": "ipython",
    "version": 3
   },
   "file_extension": ".py",
   "mimetype": "text/x-python",
   "name": "python",
   "nbconvert_exporter": "python",
   "pygments_lexer": "ipython3",
   "version": "3.10.12"
  }
 },
 "nbformat": 4,
 "nbformat_minor": 5
}
