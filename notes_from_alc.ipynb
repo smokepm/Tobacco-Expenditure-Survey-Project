{
 "cells": [
  {
   "cell_type": "markdown",
   "metadata": {},
   "source": [
    "#### Import Data"
   ]
  },
  {
   "cell_type": "code",
   "execution_count": 1,
   "metadata": {},
   "outputs": [],
   "source": [
    "import pandas as pd \n",
    "\n",
    "df_171=pd.read_csv('diary17/fmld171.csv')\n",
    "df_171['quarter']=1\n",
    "df_171['year']=2017\n",
    "\n",
    "df_172=pd.read_csv('diary17/fmld172.csv')\n",
    "df_172['quarter']=2\n",
    "df_172['year']=2017\n",
    "\n",
    "df_173=pd.read_csv('diary17/fmld173.csv')\n",
    "df_173['quarter']=3\n",
    "df_173['year']=2017\n",
    "\n",
    "df_174=pd.read_csv('diary17/fmld174.csv')\n",
    "df_174['quarter']=4\n",
    "df_174['year']=2017\n",
    "\n",
    "df_2017=pd.concat([df_171, df_172, df_173, df_174], ignore_index=True)\n",
    "df_2017.columns=df_2017.columns.str.lower()"
   ]
  },
  {
   "cell_type": "code",
   "execution_count": 2,
   "metadata": {},
   "outputs": [],
   "source": [
    "df_181=pd.read_csv('diary18/fmld181.csv')\n",
    "df_181['quarter']=1\n",
    "df_181['year']=2018\n",
    "\n",
    "df_182=pd.read_csv('diary18/fmld182.csv')\n",
    "df_182['quarter']=2\n",
    "df_182['year']=2018\n",
    "\n",
    "df_183=pd.read_csv('diary18/fmld183.csv')\n",
    "df_183['quarter']=3\n",
    "df_183['year']=2018\n",
    "\n",
    "df_184=pd.read_csv('diary18/fmld184.csv')\n",
    "df_184['quarter']=4\n",
    "df_184['year']=2018\n",
    "\n",
    "df_2018=pd.concat([df_181, df_182, df_183, df_184], ignore_index=True)\n",
    "df_2018.columns=df_2018.columns.str.lower()"
   ]
  },
  {
   "cell_type": "code",
   "execution_count": 3,
   "metadata": {},
   "outputs": [],
   "source": [
    "df_191=pd.read_csv('diary19/fmld191.csv')\n",
    "df_191['quarter']=1\n",
    "df_191['year']=2019\n",
    "\n",
    "df_192=pd.read_csv('diary19/fmld192.csv')\n",
    "df_192['quarter']=2\n",
    "df_192['year']=2019\n",
    "\n",
    "df_193=pd.read_csv('diary19/fmld193.csv')\n",
    "df_193['quarter']=3\n",
    "df_193['year']=2019\n",
    "\n",
    "df_194=pd.read_csv('diary19/fmld194.csv')\n",
    "df_194['quarter']=4\n",
    "df_194['year']=2019\n",
    "\n",
    "df_2019=pd.concat([df_191, df_192, df_193, df_194], ignore_index=True)\n",
    "df_2019.columns=df_2019.columns.str.lower()"
   ]
  },
  {
   "cell_type": "code",
   "execution_count": 4,
   "metadata": {},
   "outputs": [],
   "source": [
    "df_201=pd.read_csv('diary20/fmld201.csv')\n",
    "df_201['quarter']=1\n",
    "df_201['year']=2020\n",
    "\n",
    "df_202=pd.read_csv('diary20/fmld202.csv')\n",
    "df_202['quarter']=2\n",
    "df_202['year']=2020\n",
    "\n",
    "df_203=pd.read_csv('diary20/fmld203.csv')\n",
    "df_203['quarter']=3\n",
    "df_203['year']=2020\n",
    "\n",
    "df_204=pd.read_csv('diary20/fmld204.csv')\n",
    "df_204['quarter']=4\n",
    "df_204['year']=2020\n",
    "\n",
    "df_2020=pd.concat([df_201, df_202, df_203, df_204], ignore_index=True)\n",
    "df_2020.columns=df_2020.columns.str.lower()"
   ]
  },
  {
   "cell_type": "code",
   "execution_count": 5,
   "metadata": {},
   "outputs": [],
   "source": [
    "df_211=pd.read_csv('diary21/fmld211.csv')\n",
    "df_211['quarter']=1\n",
    "df_211['year']=2021\n",
    "\n",
    "df_212=pd.read_csv('diary21/fmld212.csv')\n",
    "df_212['quarter']=2\n",
    "df_212['year']=2021\n",
    "\n",
    "df_213=pd.read_csv('diary21/fmld213.csv')\n",
    "df_213['quarter']=3\n",
    "df_213['year']=2021\n",
    "\n",
    "df_214=pd.read_csv('diary21/fmld214.csv')\n",
    "df_214['quarter']=4\n",
    "df_214['year']=2021\n",
    "\n",
    "df_2021=pd.concat([df_211, df_212, df_213, df_214], ignore_index=True)\n",
    "df_2021.columns=df_2021.columns.str.lower()"
   ]
  },
  {
   "cell_type": "code",
   "execution_count": 6,
   "metadata": {},
   "outputs": [],
   "source": [
    "df_221=pd.read_csv('diary22/fmld221.csv')\n",
    "df_221['quarter']=1\n",
    "df_221['year']=2022\n",
    "\n",
    "df_222=pd.read_csv('diary22/fmld222.csv')\n",
    "df_222['quarter']=2\n",
    "df_222['year']=2022\n",
    "\n",
    "df_223=pd.read_csv('diary22/fmld223.csv')\n",
    "df_223['quarter']=3\n",
    "df_223['year']=2022\n",
    "\n",
    "df_224=pd.read_csv('diary22/fmld224.csv')\n",
    "df_224['quarter']=4\n",
    "df_224['year']=2022\n",
    "\n",
    "\n",
    "df_2022=pd.concat([df_221, df_222, df_223, df_224], ignore_index=True)\n",
    "df_2022.columns=df_2022.columns.str.lower()\n"
   ]
  },
  {
   "cell_type": "code",
   "execution_count": 7,
   "metadata": {},
   "outputs": [
    {
     "name": "stdout",
     "output_type": "stream",
     "text": [
      "11658 11079 10682 10615 12067 12709\n"
     ]
    }
   ],
   "source": [
    "print(len(df_2017), len(df_2018), len(df_2019), len(df_2020), len(df_2021), len(df_2022))\n"
   ]
  },
  {
   "cell_type": "code",
   "execution_count": 8,
   "metadata": {},
   "outputs": [
    {
     "name": "stdout",
     "output_type": "stream",
     "text": [
      "56101\n"
     ]
    }
   ],
   "source": [
    "df=pd.concat([df_2017, df_2018, df_2019, df_2020, df_2021], ignore_index=True)\n",
    "print(len(df))\n"
   ]
  },
  {
   "cell_type": "code",
   "execution_count": 9,
   "metadata": {},
   "outputs": [],
   "source": [
    "df.to_csv('2017_tob_2022.csv', index=False)"
   ]
  },
  {
   "cell_type": "markdown",
   "metadata": {},
   "source": [
    "#### Prep"
   ]
  },
  {
   "cell_type": "code",
   "execution_count": 10,
   "metadata": {},
   "outputs": [
    {
     "data": {
      "text/html": [
       "<div>\n",
       "<style scoped>\n",
       "    .dataframe tbody tr th:only-of-type {\n",
       "        vertical-align: middle;\n",
       "    }\n",
       "\n",
       "    .dataframe tbody tr th {\n",
       "        vertical-align: top;\n",
       "    }\n",
       "\n",
       "    .dataframe thead th {\n",
       "        text-align: right;\n",
       "    }\n",
       "</style>\n",
       "<table border=\"1\" class=\"dataframe\">\n",
       "  <thead>\n",
       "    <tr style=\"text-align: right;\">\n",
       "      <th></th>\n",
       "      <th>inc_rnkm</th>\n",
       "      <th>inc_rnk5</th>\n",
       "      <th>inc_rnk4</th>\n",
       "      <th>inc_rnk3</th>\n",
       "      <th>inc_rnk2</th>\n",
       "      <th>inc_rnk1</th>\n",
       "      <th>inc_rank</th>\n",
       "      <th>newid</th>\n",
       "      <th>age_ref</th>\n",
       "      <th>age_ref_</th>\n",
       "      <th>...</th>\n",
       "      <th>netr_ntm</th>\n",
       "      <th>othr_gxm</th>\n",
       "      <th>rets_rvm</th>\n",
       "      <th>roye_txm</th>\n",
       "      <th>division</th>\n",
       "      <th>refgen</th>\n",
       "      <th>hisp_ref</th>\n",
       "      <th>hisp2</th>\n",
       "      <th>quarter</th>\n",
       "      <th>year</th>\n",
       "    </tr>\n",
       "  </thead>\n",
       "  <tbody>\n",
       "    <tr>\n",
       "      <th>0</th>\n",
       "      <td>0.704287</td>\n",
       "      <td>0.706457</td>\n",
       "      <td>0.699513</td>\n",
       "      <td>0.705671</td>\n",
       "      <td>0.709034</td>\n",
       "      <td>0.707517</td>\n",
       "      <td>0.763599</td>\n",
       "      <td>3608891</td>\n",
       "      <td>27</td>\n",
       "      <td>D</td>\n",
       "      <td>...</td>\n",
       "      <td>A</td>\n",
       "      <td>A</td>\n",
       "      <td>A</td>\n",
       "      <td>A</td>\n",
       "      <td>8.0</td>\n",
       "      <td>5</td>\n",
       "      <td>2</td>\n",
       "      <td>NaN</td>\n",
       "      <td>1</td>\n",
       "      <td>2017</td>\n",
       "    </tr>\n",
       "    <tr>\n",
       "      <th>1</th>\n",
       "      <td>0.704573</td>\n",
       "      <td>0.706744</td>\n",
       "      <td>0.699800</td>\n",
       "      <td>0.705958</td>\n",
       "      <td>0.709321</td>\n",
       "      <td>0.707804</td>\n",
       "      <td>0.763886</td>\n",
       "      <td>3608892</td>\n",
       "      <td>27</td>\n",
       "      <td>D</td>\n",
       "      <td>...</td>\n",
       "      <td>A</td>\n",
       "      <td>A</td>\n",
       "      <td>A</td>\n",
       "      <td>A</td>\n",
       "      <td>8.0</td>\n",
       "      <td>5</td>\n",
       "      <td>2</td>\n",
       "      <td>NaN</td>\n",
       "      <td>1</td>\n",
       "      <td>2017</td>\n",
       "    </tr>\n",
       "    <tr>\n",
       "      <th>2</th>\n",
       "      <td>0.256737</td>\n",
       "      <td>0.272063</td>\n",
       "      <td>0.260261</td>\n",
       "      <td>0.263508</td>\n",
       "      <td>0.273057</td>\n",
       "      <td>0.266441</td>\n",
       "      <td>0.375717</td>\n",
       "      <td>3608901</td>\n",
       "      <td>53</td>\n",
       "      <td>D</td>\n",
       "      <td>...</td>\n",
       "      <td>A</td>\n",
       "      <td>A</td>\n",
       "      <td>A</td>\n",
       "      <td>A</td>\n",
       "      <td>4.0</td>\n",
       "      <td>3</td>\n",
       "      <td>2</td>\n",
       "      <td>NaN</td>\n",
       "      <td>1</td>\n",
       "      <td>2017</td>\n",
       "    </tr>\n",
       "    <tr>\n",
       "      <th>3</th>\n",
       "      <td>0.256312</td>\n",
       "      <td>0.271638</td>\n",
       "      <td>0.259836</td>\n",
       "      <td>0.263083</td>\n",
       "      <td>0.272632</td>\n",
       "      <td>0.266016</td>\n",
       "      <td>0.375292</td>\n",
       "      <td>3608902</td>\n",
       "      <td>53</td>\n",
       "      <td>D</td>\n",
       "      <td>...</td>\n",
       "      <td>A</td>\n",
       "      <td>A</td>\n",
       "      <td>A</td>\n",
       "      <td>A</td>\n",
       "      <td>4.0</td>\n",
       "      <td>3</td>\n",
       "      <td>2</td>\n",
       "      <td>NaN</td>\n",
       "      <td>1</td>\n",
       "      <td>2017</td>\n",
       "    </tr>\n",
       "    <tr>\n",
       "      <th>4</th>\n",
       "      <td>0.346813</td>\n",
       "      <td>0.360343</td>\n",
       "      <td>0.345145</td>\n",
       "      <td>0.350655</td>\n",
       "      <td>0.364780</td>\n",
       "      <td>0.354823</td>\n",
       "      <td>0.458908</td>\n",
       "      <td>3608921</td>\n",
       "      <td>56</td>\n",
       "      <td>D</td>\n",
       "      <td>...</td>\n",
       "      <td>A</td>\n",
       "      <td>A</td>\n",
       "      <td>A</td>\n",
       "      <td>A</td>\n",
       "      <td>4.0</td>\n",
       "      <td>3</td>\n",
       "      <td>2</td>\n",
       "      <td>NaN</td>\n",
       "      <td>1</td>\n",
       "      <td>2017</td>\n",
       "    </tr>\n",
       "  </tbody>\n",
       "</table>\n",
       "<p>5 rows × 384 columns</p>\n",
       "</div>"
      ],
      "text/plain": [
       "   inc_rnkm  inc_rnk5  inc_rnk4  inc_rnk3  inc_rnk2  inc_rnk1  inc_rank  \\\n",
       "0  0.704287  0.706457  0.699513  0.705671  0.709034  0.707517  0.763599   \n",
       "1  0.704573  0.706744  0.699800  0.705958  0.709321  0.707804  0.763886   \n",
       "2  0.256737  0.272063  0.260261  0.263508  0.273057  0.266441  0.375717   \n",
       "3  0.256312  0.271638  0.259836  0.263083  0.272632  0.266016  0.375292   \n",
       "4  0.346813  0.360343  0.345145  0.350655  0.364780  0.354823  0.458908   \n",
       "\n",
       "     newid  age_ref age_ref_  ...  netr_ntm othr_gxm  rets_rvm  roye_txm  \\\n",
       "0  3608891       27        D  ...         A        A         A         A   \n",
       "1  3608892       27        D  ...         A        A         A         A   \n",
       "2  3608901       53        D  ...         A        A         A         A   \n",
       "3  3608902       53        D  ...         A        A         A         A   \n",
       "4  3608921       56        D  ...         A        A         A         A   \n",
       "\n",
       "  division  refgen hisp_ref  hisp2 quarter  year  \n",
       "0      8.0       5        2    NaN       1  2017  \n",
       "1      8.0       5        2    NaN       1  2017  \n",
       "2      4.0       3        2    NaN       1  2017  \n",
       "3      4.0       3        2    NaN       1  2017  \n",
       "4      4.0       3        2    NaN       1  2017  \n",
       "\n",
       "[5 rows x 384 columns]"
      ]
     },
     "execution_count": 10,
     "metadata": {},
     "output_type": "execute_result"
    }
   ],
   "source": [
    "df= pd.read_csv('2017_tob_2022.csv')\n",
    "df.head()"
   ]
  },
  {
   "cell_type": "code",
   "execution_count": 11,
   "metadata": {},
   "outputs": [],
   "source": [
    "df.loc[df['sex_ref']==1, 'male']=1\n",
    "df.loc[df['sex_ref']==2, 'male']=0\n",
    "\n",
    "df.loc[df['hisp_ref']==1, 'hispanic']=1\n",
    "df.loc[df['hisp_ref']==2, 'hispanic']=0\n",
    "\n",
    "df.loc[(df['ref_race']==1) & (df['hisp_ref']==2), 'nonhisp_white']=1\n",
    "df.loc[df['ref_race']!=1, 'nonhisp_white']=0\n",
    "df.loc[(df['ref_race']==1) & (df['hisp_ref']==1), 'nonhisp_white']=0\n",
    "\n",
    "df.loc[(df['ref_race']==2) & (df['hisp_ref']==2), 'nonhisp_black']=1\n",
    "df.loc[df['ref_race']!=2, 'nonhisp_black']=0\n",
    "df.loc[(df['ref_race']==2) & (df['hisp_ref']==1), 'nonhisp_black']=0\n",
    "\n",
    "df.loc[(df['ref_race']==4) & (df['hisp_ref']==2), 'nonhisp_asian']=1\n",
    "df.loc[df['ref_race']!=4, 'nonhisp_asian']=0\n",
    "df.loc[(df['ref_race']==4) & (df['hisp_ref']==1), 'nonhisp_asian']=0\n",
    "\n",
    "df.loc[df['educ_ref'].isin([13, 14, 15, 16]), 'college']=1\n",
    "df.loc[~df['educ_ref'].isin([13, 14, 15, 16]), 'college']=0\n",
    "\n",
    "df.loc[df['educ_ref'].isin([12]), 'hs']=1\n",
    "df.loc[~df['educ_ref'].isin([12]), 'hs']=0\n",
    "\n",
    "df.loc[df['educ_ref'].isin([0, 10, 11]), 'less_hs']=1\n",
    "df.loc[~df['educ_ref'].isin([0, 10, 11]), 'less_hs']=0\n",
    "\n",
    "df.loc[df['childage']!=0, 'has_child']=1\n",
    "df.loc[df['childage']==0, 'has_child']=0\n",
    "\n",
    "df.loc[df['childage'].between(1,6), 'haschild_under18']=1 # Has children and at least one under 18\n",
    "df.loc[df['childage']==7, 'haschild_under18']=0 # Has children and none under 18\n",
    "\n",
    "df.loc[df['bls_urbn']==1, 'urban']=1\n",
    "df.loc[df['bls_urbn']==2, 'urban']=0\n",
    "\n",
    "df.loc[df['marital1']==1, 'pres_married']=1\n",
    "df.loc[df['marital1']!=1, 'pres_married']=0\n",
    "\n",
    "df.loc[df['marital1'].between(2,4), 'wid_div_sep']=1\n",
    "df.loc[~df['marital1'].between(2,4), 'wid_div_sep']=0\n",
    "\n",
    "df.loc[df['marital1']==5, 'never_married']=1\n",
    "df.loc[df['marital1']!=5, 'never_married']=0\n",
    "\n",
    "df.loc[df['pres_married']==0, 'single']=1\n",
    "df.loc[df['pres_married']!=0, 'single']=0\n",
    "\n",
    "df.loc[df['cutenure'].isin([1,2,3]), 'homeowner']=1 \n",
    "df.loc[~df['cutenure'].isin([1,2,3]), 'homeowner']=0\n",
    "\n",
    "df.loc[df['cutenure']==4, 'renter']=1\n",
    "df.loc[df['cutenure']!=4, 'renter']=0\n",
    "\n",
    "df.loc[df['region']==1, 'northeast']=1\n",
    "df.loc[df['region']!=1, 'northeast']=0\n",
    "\n",
    "df.loc[df['region']==2, 'midwest']=1\n",
    "df.loc[df['region']!=2, 'midwest']=0\n",
    "\n",
    "df.loc[df['region']==3, 'south']=1\n",
    "df.loc[df['region']!=3, 'south']=0\n",
    "\n",
    "df.loc[df['region']==4, 'west']=1\n",
    "df.loc[df['region']!=4, 'west']=0\n",
    "\n",
    "df.loc[df['empltyp1'].notnull(), 'employed']=1\n",
    "df.loc[df['empltyp1'].isnull(), 'employed']=0"
   ]
  },
  {
   "cell_type": "code",
   "execution_count": null,
   "metadata": {},
   "outputs": [],
   "source": []
  },
  {
   "cell_type": "code",
   "execution_count": 12,
   "metadata": {},
   "outputs": [],
   "source": [
    "condition1 = (df['year']==2020) & (df['quarter'].between(2,4))\n",
    "condition2 = (df['year']==2021)\n",
    "df.loc[condition1 | condition2, 'post_covid']=1\n",
    "df.loc[~condition1 & ~condition2, 'post_covid']=0"
   ]
  },
  {
   "cell_type": "markdown",
   "metadata": {},
   "source": [
    "#### Summary"
   ]
  },
  {
   "cell_type": "code",
   "execution_count": 13,
   "metadata": {},
   "outputs": [],
   "source": [
    "sum_stats=['male', 'age_ref', 'hispanic', 'nonhisp_white', 'nonhisp_black', 'nonhisp_asian', 'college', 'hs', 'less_hs', 'has_child', \n",
    "           'haschild_under18', 'urban', 'pres_married', 'wid_div_sep', 'never_married', 'single', 'homeowner', \n",
    "           'renter', 'post_covid', 'northeast', 'midwest', 'south', 'west', 'employed', 'finlwt21']\n",
    "\n",
    "expend_cols=['foodhome', 'foodaway', 'alcbev', 'smoksupp', 'pet_food', \n",
    "             'persprod', 'persserv', 'drugsupp', 'houskeep']"
   ]
  },
  {
   "cell_type": "code",
   "execution_count": 14,
   "metadata": {},
   "outputs": [],
   "source": [
    "df_sumstats=df.groupby('cuid').agg({col: 'max' for col in sum_stats} | {col: 'sum' for col in expend_cols})\n"
   ]
  },
  {
   "cell_type": "code",
   "execution_count": 15,
   "metadata": {},
   "outputs": [],
   "source": [
    "df_sumstats['totexp']=df_sumstats[expend_cols].sum(axis=1)"
   ]
  },
  {
   "cell_type": "code",
   "execution_count": 16,
   "metadata": {},
   "outputs": [
    {
     "name": "stdout",
     "output_type": "stream",
     "text": [
      "27611\n"
     ]
    }
   ],
   "source": [
    "df_sumstats=df_sumstats[df_sumstats['totexp']>0]\n",
    "print(len(df_sumstats))"
   ]
  },
  {
   "cell_type": "code",
   "execution_count": 17,
   "metadata": {},
   "outputs": [],
   "source": [
    "df_sumstats.loc[df_sumstats['smoksupp']>0, 'smo_purchase']=1\n",
    "df_sumstats.loc[df_sumstats['smoksupp']<0.01, 'smo_purchase']=0"
   ]
  },
  {
   "cell_type": "code",
   "execution_count": 18,
   "metadata": {},
   "outputs": [
    {
     "name": "stdout",
     "output_type": "stream",
     "text": [
      "                    count          mean           std        50%\n",
      "male              27611.0      0.463511      0.498676      0.000\n",
      "age_ref           27611.0     52.603600     17.395941     53.000\n",
      "hispanic          27611.0      0.131976      0.338471      0.000\n",
      "nonhisp_white     27611.0      0.692659      0.461400      1.000\n",
      "nonhisp_black     27611.0      0.097461      0.296590      0.000\n",
      "nonhisp_asian     27611.0      0.060302      0.238050      0.000\n",
      "college           27611.0      0.705951      0.455623      1.000\n",
      "hs                27611.0      0.214190      0.410267      0.000\n",
      "less_hs           27611.0      0.087972      0.283260      0.000\n",
      "has_child         27611.0      0.361197      0.480356      0.000\n",
      "haschild_under18   9973.0      0.714329      0.451756      1.000\n",
      "urban             27611.0      0.941183      0.235286      1.000\n",
      "pres_married      27611.0      0.526276      0.499318      1.000\n",
      "wid_div_sep       27611.0      0.263011      0.440276      0.000\n",
      "never_married     27611.0      0.214154      0.410241      0.000\n",
      "single            27611.0      0.473724      0.499318      0.000\n",
      "homeowner         27611.0      0.662526      0.472857      1.000\n",
      "renter            27611.0      0.319728      0.466379      0.000\n",
      "post_covid        27611.0      0.345333      0.475485      0.000\n",
      "northeast         27611.0      0.169425      0.375134      0.000\n",
      "midwest           27611.0      0.198073      0.398555      0.000\n",
      "south             27611.0      0.330738      0.470487      0.000\n",
      "west              27611.0      0.268190      0.443025      0.000\n",
      "employed          27611.0      0.658542      0.474207      1.000\n",
      "finlwt21          27611.0  47054.142368  24910.651372  43509.368\n",
      "smo_purchase      27611.0      0.129514      0.335774      0.000\n"
     ]
    }
   ],
   "source": [
    "print(df_sumstats[sum_stats+['smo_purchase']].describe().loc[['count', 'mean', 'std', '50%']].T)"
   ]
  },
  {
   "cell_type": "code",
   "execution_count": 19,
   "metadata": {},
   "outputs": [
    {
     "name": "stdout",
     "output_type": "stream",
     "text": [
      "            count        mean         std     50%\n",
      "foodhome  27611.0  188.199139  168.063671  147.65\n",
      "foodaway  27611.0  110.769870  164.831337   62.31\n",
      "alcbev    27611.0   20.584984   58.121847    0.00\n",
      "smoksupp  27611.0    6.414110   26.479991    0.00\n",
      "pet_food  27611.0    9.650176   40.342698    0.00\n",
      "persprod  27611.0   16.364075   37.742757    1.04\n",
      "persserv  27611.0   12.677034   51.217642    0.00\n",
      "drugsupp  27611.0   18.875778   96.188768    0.00\n",
      "houskeep  27611.0   31.629895   62.787680   13.24\n"
     ]
    }
   ],
   "source": [
    "print(df_sumstats[expend_cols].describe().loc[['count', 'mean', 'std', '50%']].T)"
   ]
  },
  {
   "cell_type": "markdown",
   "metadata": {},
   "source": [
    "#### Analysis"
   ]
  },
  {
   "cell_type": "code",
   "execution_count": 20,
   "metadata": {},
   "outputs": [],
   "source": [
    "reg_controls=['male', 'hispanic', 'nonhisp_white', 'nonhisp_black', 'nonhisp_asian', \n",
    "              'college', 'hs', 'has_child', 'urban', 'single', 'homeowner', 'post_covid', 'northeast', 'midwest', 'west', \n",
    "             'inc_rank', 'finlwt21', 'year', 'quarter', 'employed']\n",
    "\n",
    "expend_cols=['foodhome', 'foodaway', 'alcbev', 'smoksupp', 'pet_food', \n",
    "             'persprod', 'persserv', 'drugsupp', 'houskeep']"
   ]
  },
  {
   "cell_type": "code",
   "execution_count": 21,
   "metadata": {},
   "outputs": [],
   "source": [
    "df_analysis=df.groupby(['cuid']).agg({col: 'max' for col in reg_controls} | {col: 'sum' for col in expend_cols})"
   ]
  },
  {
   "cell_type": "code",
   "execution_count": 22,
   "metadata": {},
   "outputs": [],
   "source": [
    "df_analysis['totexp']=df_analysis[expend_cols].sum(axis=1)\n",
    "df_analysis=df_analysis[df_analysis['totexp']>0]"
   ]
  },
  {
   "cell_type": "code",
   "execution_count": 23,
   "metadata": {},
   "outputs": [
    {
     "name": "stdout",
     "output_type": "stream",
     "text": [
      "year  quarter\n",
      "2017  1          7.508147\n",
      "      2          8.426072\n",
      "      3          8.636170\n",
      "      4          7.993921\n",
      "2018  1          6.708597\n",
      "      2          7.242349\n",
      "      3          8.276426\n",
      "      4          6.692624\n",
      "2019  1          6.042024\n",
      "      2          6.998188\n",
      "      3          4.950957\n",
      "      4          8.647065\n",
      "2020  1          5.633885\n",
      "      2          3.445159\n",
      "      3          4.476983\n",
      "      4          4.018611\n",
      "2021  1          6.462928\n",
      "      2          4.569647\n",
      "      3          5.474849\n",
      "      4          5.324524\n",
      "Name: smoksupp, dtype: float64\n"
     ]
    }
   ],
   "source": [
    "df_grouped1=df_analysis.groupby(['year', 'quarter']).agg({col: 'mean' for col in expend_cols})\n",
    "\n",
    "print(df_grouped1['smoksupp'])"
   ]
  },
  {
   "cell_type": "code",
   "execution_count": 24,
   "metadata": {},
   "outputs": [],
   "source": [
    "df_grouped2=df_analysis[['smoksupp', 'year', 'quarter']][df_analysis['smoksupp']>0].groupby(['year', 'quarter']).mean()"
   ]
  },
  {
   "cell_type": "code",
   "execution_count": 25,
   "metadata": {},
   "outputs": [
    {
     "name": "stdout",
     "output_type": "stream",
     "text": [
      "               smoksupp\n",
      "year quarter           \n",
      "2017 1        45.307782\n",
      "     2        45.754809\n",
      "     3        46.779256\n",
      "     4        46.255148\n",
      "2018 1        50.552758\n",
      "     2        46.102913\n",
      "     3        57.608814\n",
      "     4        45.679812\n",
      "2019 1        49.424503\n",
      "     2        53.426168\n",
      "     3        41.065605\n",
      "     4        58.613075\n",
      "2020 1        47.477214\n",
      "     2        49.106368\n",
      "     3        47.754484\n",
      "     4        42.709423\n",
      "2021 1        66.482283\n",
      "     2        52.370124\n",
      "     3        58.141358\n",
      "     4        47.408741\n"
     ]
    }
   ],
   "source": [
    "print(df_grouped2)"
   ]
  },
  {
   "cell_type": "markdown",
   "metadata": {},
   "source": [
    "#### Frequency Over Time"
   ]
  },
  {
   "cell_type": "code",
   "execution_count": 26,
   "metadata": {},
   "outputs": [],
   "source": [
    "df_analysis.loc[df_analysis['smoksupp']>0, 'smo_purchase']=1\n",
    "df_analysis.loc[df_analysis['smoksupp']<0.01, 'smo_purchase']=0"
   ]
  },
  {
   "cell_type": "code",
   "execution_count": 27,
   "metadata": {},
   "outputs": [],
   "source": [
    "df_grouped3=df_analysis[['smo_purchase', 'year', 'quarter']].groupby(['year', 'quarter']).mean()"
   ]
  },
  {
   "cell_type": "code",
   "execution_count": 28,
   "metadata": {},
   "outputs": [
    {
     "name": "stdout",
     "output_type": "stream",
     "text": [
      "              smo_purchase\n",
      "year quarter              \n",
      "2017 1            0.165714\n",
      "     2            0.184157\n",
      "     3            0.184615\n",
      "     4            0.172822\n",
      "2018 1            0.132705\n",
      "     2            0.157091\n",
      "     3            0.143666\n",
      "     4            0.146512\n",
      "2019 1            0.122248\n",
      "     2            0.130988\n",
      "     3            0.120562\n",
      "     4            0.147528\n",
      "2020 1            0.118665\n",
      "     2            0.070157\n",
      "     3            0.093750\n",
      "     4            0.094092\n",
      "2021 1            0.097213\n",
      "     2            0.087257\n",
      "     3            0.094164\n",
      "     4            0.112311\n"
     ]
    }
   ],
   "source": [
    "print(df_grouped3)"
   ]
  },
  {
   "cell_type": "code",
   "execution_count": null,
   "metadata": {},
   "outputs": [],
   "source": []
  },
  {
   "cell_type": "code",
   "execution_count": 29,
   "metadata": {},
   "outputs": [
    {
     "name": "stdout",
     "output_type": "stream",
     "text": [
      "           smoksupp     smo_share\n",
      "count  27611.000000  27505.000000\n",
      "mean       6.414110      0.022389\n",
      "std       26.479991      0.088698\n",
      "min        0.000000      0.000000\n",
      "25%        0.000000      0.000000\n",
      "50%        0.000000      0.000000\n",
      "75%        0.000000      0.000000\n",
      "max      551.560000      1.000000\n"
     ]
    }
   ],
   "source": [
    "df_analysis['smo_share']=df_analysis['smoksupp']/(df_analysis['foodaway']+df_analysis['foodhome']+df_analysis['smoksupp'])\n",
    "\n",
    "outcomes=['smoksupp', 'smo_share']\n",
    "print(df_analysis[outcomes].describe())"
   ]
  },
  {
   "cell_type": "code",
   "execution_count": 30,
   "metadata": {},
   "outputs": [],
   "source": [
    "df_grouped4=df_analysis[['smo_share', 'year', 'quarter']].groupby(['year', 'quarter']).mean()"
   ]
  },
  {
   "cell_type": "code",
   "execution_count": 31,
   "metadata": {},
   "outputs": [
    {
     "name": "stdout",
     "output_type": "stream",
     "text": [
      "              smo_share\n",
      "year quarter           \n",
      "2017 1         0.028108\n",
      "     2         0.030396\n",
      "     3         0.032238\n",
      "     4         0.025698\n",
      "2018 1         0.022516\n",
      "     2         0.024718\n",
      "     3         0.029683\n",
      "     4         0.025716\n",
      "2019 1         0.022524\n",
      "     2         0.023382\n",
      "     3         0.019229\n",
      "     4         0.027859\n",
      "2020 1         0.018374\n",
      "     2         0.013551\n",
      "     3         0.017045\n",
      "     4         0.013409\n",
      "2021 1         0.020918\n",
      "     2         0.015601\n",
      "     3         0.017695\n",
      "     4         0.017342\n"
     ]
    }
   ],
   "source": [
    "print(df_grouped4)"
   ]
  },
  {
   "cell_type": "markdown",
   "metadata": {},
   "source": [
    "#### Regression"
   ]
  },
  {
   "cell_type": "code",
   "execution_count": 32,
   "metadata": {},
   "outputs": [
    {
     "name": "stdout",
     "output_type": "stream",
     "text": [
      "                            OLS Regression Results                            \n",
      "==============================================================================\n",
      "Dep. Variable:           smo_purchase   R-squared:                       0.006\n",
      "Model:                            OLS   Adj. R-squared:                  0.006\n",
      "Method:                 Least Squares   F-statistic:                     167.1\n",
      "Date:                Mon, 30 Oct 2023   Prob (F-statistic):           4.09e-38\n",
      "Time:                        08:02:51   Log-Likelihood:                -8962.1\n",
      "No. Observations:               27611   AIC:                         1.793e+04\n",
      "Df Residuals:                   27609   BIC:                         1.794e+04\n",
      "Df Model:                           1                                         \n",
      "Covariance Type:            nonrobust                                         \n",
      "==============================================================================\n",
      "                 coef    std err          t      P>|t|      [0.025      0.975]\n",
      "------------------------------------------------------------------------------\n",
      "Intercept      0.1484      0.002     59.611      0.000       0.144       0.153\n",
      "post_covid    -0.0548      0.004    -12.927      0.000      -0.063      -0.046\n",
      "==============================================================================\n",
      "Omnibus:                    10832.644   Durbin-Watson:                   1.996\n",
      "Prob(Omnibus):                  0.000   Jarque-Bera (JB):            31209.318\n",
      "Skew:                           2.186   Prob(JB):                         0.00\n",
      "Kurtosis:                       5.831   Cond. No.                         2.42\n",
      "==============================================================================\n",
      "\n",
      "Notes:\n",
      "[1] Standard Errors assume that the covariance matrix of the errors is correctly specified.\n"
     ]
    }
   ],
   "source": [
    "import statsmodels.formula.api as smf\n",
    "alpha = 0.05\n",
    "\n",
    "reg=smf.ols(formula='smo_purchase~post_covid', data=df_analysis)\n",
    "results=reg.fit()\n",
    "print(results.summary())"
   ]
  },
  {
   "cell_type": "code",
   "execution_count": 33,
   "metadata": {},
   "outputs": [
    {
     "name": "stdout",
     "output_type": "stream",
     "text": [
      "Intercept     True\n",
      "post_covid    True\n",
      "dtype: bool\n"
     ]
    }
   ],
   "source": [
    "print(results.pvalues.round(6) < alpha)"
   ]
  },
  {
   "cell_type": "code",
   "execution_count": 34,
   "metadata": {},
   "outputs": [
    {
     "name": "stdout",
     "output_type": "stream",
     "text": [
      "                            OLS Regression Results                            \n",
      "==============================================================================\n",
      "Dep. Variable:           smo_purchase   R-squared:                       0.006\n",
      "Model:                            OLS   Adj. R-squared:                  0.006\n",
      "Method:                 Least Squares   F-statistic:                     167.1\n",
      "Date:                Mon, 30 Oct 2023   Prob (F-statistic):           4.09e-38\n",
      "Time:                        08:02:51   Log-Likelihood:                -8962.1\n",
      "No. Observations:               27611   AIC:                         1.793e+04\n",
      "Df Residuals:                   27609   BIC:                         1.794e+04\n",
      "Df Model:                           1                                         \n",
      "Covariance Type:            nonrobust                                         \n",
      "==============================================================================\n",
      "                 coef    std err          t      P>|t|      [0.025      0.975]\n",
      "------------------------------------------------------------------------------\n",
      "Intercept      0.1484      0.002     59.611      0.000       0.144       0.153\n",
      "post_covid    -0.0548      0.004    -12.927      0.000      -0.063      -0.046\n",
      "==============================================================================\n",
      "Omnibus:                    10832.644   Durbin-Watson:                   1.996\n",
      "Prob(Omnibus):                  0.000   Jarque-Bera (JB):            31209.318\n",
      "Skew:                           2.186   Prob(JB):                         0.00\n",
      "Kurtosis:                       5.831   Cond. No.                         2.42\n",
      "==============================================================================\n",
      "\n",
      "Notes:\n",
      "[1] Standard Errors assume that the covariance matrix of the errors is correctly specified.\n"
     ]
    }
   ],
   "source": [
    "reg1=smf.ols(formula='smoksupp~post_covid', data=df_analysis[df_analysis['smoksupp']>0])\n",
    "results1=reg.fit()\n",
    "print(results1.summary())"
   ]
  },
  {
   "cell_type": "code",
   "execution_count": 35,
   "metadata": {},
   "outputs": [
    {
     "name": "stdout",
     "output_type": "stream",
     "text": [
      "Intercept     True\n",
      "post_covid    True\n",
      "dtype: bool\n"
     ]
    }
   ],
   "source": [
    "print(results1.pvalues.round(6) < alpha)"
   ]
  }
 ],
 "metadata": {
  "kernelspec": {
   "display_name": "Python 3",
   "language": "python",
   "name": "python3"
  },
  "language_info": {
   "codemirror_mode": {
    "name": "ipython",
    "version": 3
   },
   "file_extension": ".py",
   "mimetype": "text/x-python",
   "name": "python",
   "nbconvert_exporter": "python",
   "pygments_lexer": "ipython3",
   "version": "3.10.12"
  }
 },
 "nbformat": 4,
 "nbformat_minor": 2
}
