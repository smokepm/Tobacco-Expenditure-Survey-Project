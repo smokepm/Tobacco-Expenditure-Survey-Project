{
 "cells": [
  {
   "cell_type": "code",
   "execution_count": 1,
   "metadata": {},
   "outputs": [],
   "source": [
    "import pandas as pd \n",
    "\n",
    "df_171=pd.read_csv('diary17/fmld171.csv')\n",
    "df_171['quarter']=1\n",
    "df_171['year']=2017\n",
    "\n",
    "df_172=pd.read_csv('diary17/fmld172.csv')\n",
    "df_172['quarter']=2\n",
    "df_172['year']=2017\n",
    "\n",
    "df_173=pd.read_csv('diary17/fmld173.csv')\n",
    "df_173['quarter']=3\n",
    "df_173['year']=2017\n",
    "\n",
    "df_174=pd.read_csv('diary17/fmld174.csv')\n",
    "df_174['quarter']=4\n",
    "df_174['year']=2017\n",
    "\n",
    "df_2017=pd.concat([df_171, df_172, df_173, df_174], ignore_index=True)\n",
    "df_2017.columns=df_2017.columns.str.lower()"
   ]
  },
  {
   "cell_type": "code",
   "execution_count": 2,
   "metadata": {},
   "outputs": [],
   "source": [
    "df_181=pd.read_csv('diary18/fmld181.csv')\n",
    "df_181['quarter']=1\n",
    "df_181['year']=2018\n",
    "\n",
    "df_182=pd.read_csv('diary18/fmld182.csv')\n",
    "df_182['quarter']=2\n",
    "df_182['year']=2018\n",
    "\n",
    "df_183=pd.read_csv('diary18/fmld183.csv')\n",
    "df_183['quarter']=3\n",
    "df_183['year']=2018\n",
    "\n",
    "df_184=pd.read_csv('diary18/fmld184.csv')\n",
    "df_184['quarter']=4\n",
    "df_184['year']=2018\n",
    "\n",
    "df_2018=pd.concat([df_181, df_182, df_183, df_184], ignore_index=True)\n",
    "df_2018.columns=df_2018.columns.str.lower()"
   ]
  },
  {
   "cell_type": "code",
   "execution_count": 3,
   "metadata": {},
   "outputs": [],
   "source": [
    "df_191=pd.read_csv('diary19/fmld191.csv')\n",
    "df_191['quarter']=1\n",
    "df_191['year']=2019\n",
    "\n",
    "df_192=pd.read_csv('diary19/fmld192.csv')\n",
    "df_192['quarter']=2\n",
    "df_192['year']=2019\n",
    "\n",
    "df_193=pd.read_csv('diary19/fmld193.csv')\n",
    "df_193['quarter']=3\n",
    "df_193['year']=2019\n",
    "\n",
    "df_194=pd.read_csv('diary19/fmld194.csv')\n",
    "df_194['quarter']=4\n",
    "df_194['year']=2019\n",
    "\n",
    "df_2019=pd.concat([df_191, df_192, df_193, df_194], ignore_index=True)\n",
    "df_2019.columns=df_2019.columns.str.lower()"
   ]
  },
  {
   "cell_type": "code",
   "execution_count": 4,
   "metadata": {},
   "outputs": [],
   "source": [
    "df_201=pd.read_csv('diary20/fmld201.csv')\n",
    "df_201['quarter']=1\n",
    "df_201['year']=2020\n",
    "\n",
    "df_202=pd.read_csv('diary20/fmld202.csv')\n",
    "df_202['quarter']=2\n",
    "df_202['year']=2020\n",
    "\n",
    "df_203=pd.read_csv('diary20/fmld203.csv')\n",
    "df_203['quarter']=3\n",
    "df_203['year']=2020\n",
    "\n",
    "df_204=pd.read_csv('diary20/fmld204.csv')\n",
    "df_204['quarter']=4\n",
    "df_204['year']=2020\n",
    "\n",
    "df_2020=pd.concat([df_201, df_202, df_203, df_204], ignore_index=True)\n",
    "df_2020.columns=df_2020.columns.str.lower()"
   ]
  },
  {
   "cell_type": "code",
   "execution_count": 5,
   "metadata": {},
   "outputs": [],
   "source": [
    "df_211=pd.read_csv('diary21/fmld211.csv')\n",
    "df_211['quarter']=1\n",
    "df_211['year']=2021\n",
    "\n",
    "df_212=pd.read_csv('diary21/fmld212.csv')\n",
    "df_212['quarter']=2\n",
    "df_212['year']=2021\n",
    "\n",
    "df_213=pd.read_csv('diary21/fmld213.csv')\n",
    "df_213['quarter']=3\n",
    "df_213['year']=2021\n",
    "\n",
    "df_214=pd.read_csv('diary21/fmld214.csv')\n",
    "df_214['quarter']=4\n",
    "df_214['year']=2021\n",
    "\n",
    "df_2021=pd.concat([df_211, df_212, df_213, df_214], ignore_index=True)\n",
    "df_2021.columns=df_2021.columns.str.lower()"
   ]
  },
  {
   "cell_type": "code",
   "execution_count": 6,
   "metadata": {},
   "outputs": [],
   "source": [
    "df_221=pd.read_csv('diary22/fmld221.csv')\n",
    "df_221['quarter']=1\n",
    "df_221['year']=2022\n",
    "\n",
    "df_222=pd.read_csv('diary22/fmld222.csv')\n",
    "df_222['quarter']=2\n",
    "df_222['year']=2022\n",
    "\n",
    "df_223=pd.read_csv('diary22/fmld223.csv')\n",
    "df_223['quarter']=3\n",
    "df_223['year']=2022\n",
    "\n",
    "df_224=pd.read_csv('diary22/fmld224.csv')\n",
    "df_224['quarter']=4\n",
    "df_224['year']=2022\n",
    "\n",
    "\n",
    "df_2022=pd.concat([df_221, df_222, df_223, df_224], ignore_index=True)\n",
    "df_2022.columns=df_2022.columns.str.lower()\n"
   ]
  },
  {
   "cell_type": "code",
   "execution_count": 7,
   "metadata": {},
   "outputs": [],
   "source": [
    "df=pd.concat([df_2017, df_2018, df_2019, df_2020, df_2021, df_2022], ignore_index=True)\n",
    "df.columns=df.columns.str.lower()"
   ]
  },
  {
   "cell_type": "code",
   "execution_count": 8,
   "metadata": {},
   "outputs": [],
   "source": [
    "df= pd.read_csv('2017_tob_2022.csv')\n",
    "df.columns=df.columns.str.lower()\n"
   ]
  },
  {
   "cell_type": "code",
   "execution_count": 9,
   "metadata": {},
   "outputs": [],
   "source": [
    "df.to_csv('2017_tob_2022.csv', index=False)"
   ]
  },
  {
   "cell_type": "code",
   "execution_count": null,
   "metadata": {},
   "outputs": [],
   "source": []
  },
  {
   "cell_type": "markdown",
   "metadata": {},
   "source": [
    "#### Dummy Variables for between race and socioeconomic factors."
   ]
  },
  {
   "cell_type": "code",
   "execution_count": 20,
   "metadata": {},
   "outputs": [
    {
     "data": {
      "text/html": [
       "<div>\n",
       "<style scoped>\n",
       "    .dataframe tbody tr th:only-of-type {\n",
       "        vertical-align: middle;\n",
       "    }\n",
       "\n",
       "    .dataframe tbody tr th {\n",
       "        vertical-align: top;\n",
       "    }\n",
       "\n",
       "    .dataframe thead th {\n",
       "        text-align: right;\n",
       "    }\n",
       "</style>\n",
       "<table border=\"1\" class=\"dataframe\">\n",
       "  <thead>\n",
       "    <tr style=\"text-align: right;\">\n",
       "      <th></th>\n",
       "      <th>inc_rnkm</th>\n",
       "      <th>inc_rnk5</th>\n",
       "      <th>inc_rnk4</th>\n",
       "      <th>inc_rnk3</th>\n",
       "      <th>inc_rnk2</th>\n",
       "      <th>inc_rnk1</th>\n",
       "      <th>inc_rank</th>\n",
       "      <th>newid</th>\n",
       "      <th>age_ref</th>\n",
       "      <th>age_ref_</th>\n",
       "      <th>...</th>\n",
       "      <th>wid_div_sep</th>\n",
       "      <th>never_married</th>\n",
       "      <th>single</th>\n",
       "      <th>homeowner</th>\n",
       "      <th>renter</th>\n",
       "      <th>northeast</th>\n",
       "      <th>midwest</th>\n",
       "      <th>south</th>\n",
       "      <th>west</th>\n",
       "      <th>employed</th>\n",
       "    </tr>\n",
       "  </thead>\n",
       "  <tbody>\n",
       "    <tr>\n",
       "      <th>0</th>\n",
       "      <td>0.704287</td>\n",
       "      <td>0.706457</td>\n",
       "      <td>0.699513</td>\n",
       "      <td>0.705671</td>\n",
       "      <td>0.709034</td>\n",
       "      <td>0.707517</td>\n",
       "      <td>0.763599</td>\n",
       "      <td>3608891</td>\n",
       "      <td>27</td>\n",
       "      <td>D</td>\n",
       "      <td>...</td>\n",
       "      <td>0.0</td>\n",
       "      <td>1.0</td>\n",
       "      <td>1.0</td>\n",
       "      <td>1.0</td>\n",
       "      <td>0.0</td>\n",
       "      <td>0.0</td>\n",
       "      <td>0.0</td>\n",
       "      <td>0.0</td>\n",
       "      <td>1.0</td>\n",
       "      <td>1.0</td>\n",
       "    </tr>\n",
       "    <tr>\n",
       "      <th>1</th>\n",
       "      <td>0.704573</td>\n",
       "      <td>0.706744</td>\n",
       "      <td>0.699800</td>\n",
       "      <td>0.705958</td>\n",
       "      <td>0.709321</td>\n",
       "      <td>0.707804</td>\n",
       "      <td>0.763886</td>\n",
       "      <td>3608892</td>\n",
       "      <td>27</td>\n",
       "      <td>D</td>\n",
       "      <td>...</td>\n",
       "      <td>0.0</td>\n",
       "      <td>1.0</td>\n",
       "      <td>1.0</td>\n",
       "      <td>1.0</td>\n",
       "      <td>0.0</td>\n",
       "      <td>0.0</td>\n",
       "      <td>0.0</td>\n",
       "      <td>0.0</td>\n",
       "      <td>1.0</td>\n",
       "      <td>1.0</td>\n",
       "    </tr>\n",
       "    <tr>\n",
       "      <th>2</th>\n",
       "      <td>0.256737</td>\n",
       "      <td>0.272063</td>\n",
       "      <td>0.260261</td>\n",
       "      <td>0.263508</td>\n",
       "      <td>0.273057</td>\n",
       "      <td>0.266441</td>\n",
       "      <td>0.375717</td>\n",
       "      <td>3608901</td>\n",
       "      <td>53</td>\n",
       "      <td>D</td>\n",
       "      <td>...</td>\n",
       "      <td>1.0</td>\n",
       "      <td>0.0</td>\n",
       "      <td>1.0</td>\n",
       "      <td>1.0</td>\n",
       "      <td>0.0</td>\n",
       "      <td>0.0</td>\n",
       "      <td>1.0</td>\n",
       "      <td>0.0</td>\n",
       "      <td>0.0</td>\n",
       "      <td>1.0</td>\n",
       "    </tr>\n",
       "    <tr>\n",
       "      <th>3</th>\n",
       "      <td>0.256312</td>\n",
       "      <td>0.271638</td>\n",
       "      <td>0.259836</td>\n",
       "      <td>0.263083</td>\n",
       "      <td>0.272632</td>\n",
       "      <td>0.266016</td>\n",
       "      <td>0.375292</td>\n",
       "      <td>3608902</td>\n",
       "      <td>53</td>\n",
       "      <td>D</td>\n",
       "      <td>...</td>\n",
       "      <td>1.0</td>\n",
       "      <td>0.0</td>\n",
       "      <td>1.0</td>\n",
       "      <td>1.0</td>\n",
       "      <td>0.0</td>\n",
       "      <td>0.0</td>\n",
       "      <td>1.0</td>\n",
       "      <td>0.0</td>\n",
       "      <td>0.0</td>\n",
       "      <td>1.0</td>\n",
       "    </tr>\n",
       "    <tr>\n",
       "      <th>4</th>\n",
       "      <td>0.346813</td>\n",
       "      <td>0.360343</td>\n",
       "      <td>0.345145</td>\n",
       "      <td>0.350655</td>\n",
       "      <td>0.364780</td>\n",
       "      <td>0.354823</td>\n",
       "      <td>0.458908</td>\n",
       "      <td>3608921</td>\n",
       "      <td>56</td>\n",
       "      <td>D</td>\n",
       "      <td>...</td>\n",
       "      <td>1.0</td>\n",
       "      <td>0.0</td>\n",
       "      <td>1.0</td>\n",
       "      <td>0.0</td>\n",
       "      <td>1.0</td>\n",
       "      <td>0.0</td>\n",
       "      <td>1.0</td>\n",
       "      <td>0.0</td>\n",
       "      <td>0.0</td>\n",
       "      <td>1.0</td>\n",
       "    </tr>\n",
       "  </tbody>\n",
       "</table>\n",
       "<p>5 rows × 406 columns</p>\n",
       "</div>"
      ],
      "text/plain": [
       "   inc_rnkm  inc_rnk5  inc_rnk4  inc_rnk3  inc_rnk2  inc_rnk1  inc_rank  \\\n",
       "0  0.704287  0.706457  0.699513  0.705671  0.709034  0.707517  0.763599   \n",
       "1  0.704573  0.706744  0.699800  0.705958  0.709321  0.707804  0.763886   \n",
       "2  0.256737  0.272063  0.260261  0.263508  0.273057  0.266441  0.375717   \n",
       "3  0.256312  0.271638  0.259836  0.263083  0.272632  0.266016  0.375292   \n",
       "4  0.346813  0.360343  0.345145  0.350655  0.364780  0.354823  0.458908   \n",
       "\n",
       "     newid  age_ref age_ref_  ...  wid_div_sep never_married  single  \\\n",
       "0  3608891       27        D  ...          0.0           1.0     1.0   \n",
       "1  3608892       27        D  ...          0.0           1.0     1.0   \n",
       "2  3608901       53        D  ...          1.0           0.0     1.0   \n",
       "3  3608902       53        D  ...          1.0           0.0     1.0   \n",
       "4  3608921       56        D  ...          1.0           0.0     1.0   \n",
       "\n",
       "   homeowner renter  northeast midwest  south west  employed  \n",
       "0        1.0    0.0        0.0     0.0    0.0  1.0       1.0  \n",
       "1        1.0    0.0        0.0     0.0    0.0  1.0       1.0  \n",
       "2        1.0    0.0        0.0     1.0    0.0  0.0       1.0  \n",
       "3        1.0    0.0        0.0     1.0    0.0  0.0       1.0  \n",
       "4        0.0    1.0        0.0     1.0    0.0  0.0       1.0  \n",
       "\n",
       "[5 rows x 406 columns]"
      ]
     },
     "execution_count": 20,
     "metadata": {},
     "output_type": "execute_result"
    }
   ],
   "source": [
    "df = pd.read_csv('2017_tob_2022.csv')\n",
    "df.columns=df.columns.str.lower()\n",
    "\n",
    "df.head()"
   ]
  },
  {
   "cell_type": "code",
   "execution_count": 18,
   "metadata": {},
   "outputs": [
    {
     "data": {
      "text/plain": [
       "56101"
      ]
     },
     "execution_count": 18,
     "metadata": {},
     "output_type": "execute_result"
    }
   ],
   "source": [
    "len(df['smoksupp'])"
   ]
  },
  {
   "cell_type": "code",
   "execution_count": 11,
   "metadata": {},
   "outputs": [],
   "source": [
    "df.loc[df['sex_ref']==1, 'male']=1\n",
    "df.loc[df['sex_ref']==2, 'male']=0\n",
    "\n",
    "df.loc[df['hisp_ref']==1, 'hispanic']=1\n",
    "df.loc[df['hisp_ref']==2, 'hispanic']=0\n",
    "\n",
    "df.loc[(df['ref_race']==1) & (df['hisp_ref']==2), 'nonhisp_white']=1\n",
    "df.loc[df['ref_race']!=1, 'nonhisp_white']=0\n",
    "df.loc[(df['ref_race']==1) & (df['hisp_ref']==1), 'nonhisp_white']=0\n",
    "\n",
    "df.loc[(df['ref_race']==2) & (df['hisp_ref']==2), 'nonhisp_black']=1\n",
    "df.loc[df['ref_race']!=2, 'nonhisp_black']=0\n",
    "df.loc[(df['ref_race']==2) & (df['hisp_ref']==1), 'nonhisp_black']=0\n",
    "\n",
    "df.loc[(df['ref_race']==4) & (df['hisp_ref']==2), 'nonhisp_asian']=1\n",
    "df.loc[df['ref_race']!=4, 'nonhisp_asian']=0\n",
    "df.loc[(df['ref_race']==4) & (df['hisp_ref']==1), 'nonhisp_asian']=0\n",
    "\n",
    "df.loc[df['educ_ref'].isin([13, 14, 15, 16]), 'college']=1\n",
    "df.loc[~df['educ_ref'].isin([13, 14, 15, 16]), 'college']=0\n",
    "\n",
    "df.loc[df['educ_ref'].isin([12]), 'hs']=1\n",
    "df.loc[~df['educ_ref'].isin([12]), 'hs']=0\n",
    "\n",
    "df.loc[df['educ_ref'].isin([0, 10, 11]), 'less_hs']=1\n",
    "df.loc[~df['educ_ref'].isin([0, 10, 11]), 'less_hs']=0\n",
    "\n",
    "df.loc[df['childage']!=0, 'has_child']=1\n",
    "df.loc[df['childage']==0, 'has_child']=0\n",
    "\n",
    "df.loc[df['childage'].between(1,6), 'haschild_under18']=1 # Has children and at least one under 18\n",
    "df.loc[df['childage']==7, 'haschild_under18']=0 # Has children and none under 18\n",
    "\n",
    "df.loc[df['bls_urbn']==1, 'urban']=1\n",
    "df.loc[df['bls_urbn']==2, 'urban']=0\n",
    "\n",
    "df.loc[df['marital1']==1, 'pres_married']=1\n",
    "df.loc[df['marital1']!=1, 'pres_married']=0\n",
    "\n",
    "df.loc[df['marital1'].between(2,4), 'wid_div_sep']=1\n",
    "df.loc[~df['marital1'].between(2,4), 'wid_div_sep']=0\n",
    "\n",
    "df.loc[df['marital1']==5, 'never_married']=1\n",
    "df.loc[df['marital1']!=5, 'never_married']=0\n",
    "\n",
    "df.loc[df['pres_married']==0, 'single']=1\n",
    "df.loc[df['pres_married']!=0, 'single']=0\n",
    "\n",
    "df.loc[df['cutenure'].isin([1,2,3]), 'homeowner']=1 \n",
    "df.loc[~df['cutenure'].isin([1,2,3]), 'homeowner']=0\n",
    "\n",
    "df.loc[df['cutenure']==4, 'renter']=1\n",
    "df.loc[df['cutenure']!=4, 'renter']=0\n",
    "\n",
    "df.loc[df['region']==1, 'northeast']=1\n",
    "df.loc[df['region']!=1, 'northeast']=0\n",
    "\n",
    "df.loc[df['region']==2, 'midwest']=1\n",
    "df.loc[df['region']!=2, 'midwest']=0\n",
    "\n",
    "df.loc[df['region']==3, 'south']=1\n",
    "df.loc[df['region']!=3, 'south']=0\n",
    "\n",
    "df.loc[df['region']==4, 'west']=1\n",
    "df.loc[df['region']!=4, 'west']=0\n",
    "\n",
    "df.loc[df['empltyp1'].notnull(), 'employed']=1\n",
    "df.loc[df['empltyp1'].isnull(), 'employed']=0"
   ]
  },
  {
   "cell_type": "code",
   "execution_count": 28,
   "metadata": {},
   "outputs": [],
   "source": [
    "condition1 = (df['year'].isin([2017, 2018, 2019])) | ((df['year'] == 2020) & (df['quarter'] == 1))\n",
    "condition2 = (df['year'].isin([2020]) & (df['quarter'].between(2, 4)))\n",
    "condition3 = (df['year'].isin([2021, 2022])) "
   ]
  },
  {
   "cell_type": "code",
   "execution_count": 29,
   "metadata": {},
   "outputs": [
    {
     "name": "stdout",
     "output_type": "stream",
     "text": [
      "36704\n",
      "7330\n",
      "12067\n"
     ]
    }
   ],
   "source": [
    "print(len(df.loc[condition1, 'smoksupp']))\n",
    "print(len(df.loc[condition2, 'smoksupp']))\n",
    "print(len(df.loc[condition3, 'smoksupp']))"
   ]
  },
  {
   "cell_type": "code",
   "execution_count": 30,
   "metadata": {},
   "outputs": [
    {
     "data": {
      "text/plain": [
       "count    56101.000000\n",
       "mean         3.156806\n",
       "std         15.135768\n",
       "min          0.000000\n",
       "25%          0.000000\n",
       "50%          0.000000\n",
       "75%          0.000000\n",
       "max        422.000000\n",
       "Name: smoksupp, dtype: float64"
      ]
     },
     "execution_count": 30,
     "metadata": {},
     "output_type": "execute_result"
    }
   ],
   "source": [
    "df['smoksupp'].describe()"
   ]
  },
  {
   "cell_type": "code",
   "execution_count": 39,
   "metadata": {},
   "outputs": [
    {
     "name": "stdout",
     "output_type": "stream",
     "text": [
      "year  quarter\n",
      "2017  1          3.699896\n",
      "      2          4.144292\n",
      "      3          4.252660\n",
      "      4          3.942019\n",
      "2018  1          3.314638\n",
      "      2          3.580809\n",
      "      3          4.038187\n",
      "      4          3.306582\n",
      "2019  1          2.979163\n",
      "      2          3.446214\n",
      "      3          2.438504\n",
      "      4          4.247324\n",
      "2020  1          2.774924\n",
      "      2          1.699446\n",
      "      3          2.183382\n",
      "      4          1.943392\n",
      "2021  1          3.220517\n",
      "      2          2.257893\n",
      "      3          2.727477\n",
      "      4          2.582320\n",
      "Name: smoksupp, dtype: float64\n"
     ]
    }
   ],
   "source": [
    "df_grouped1=df.groupby(['year', 'quarter'])['smoksupp'].mean()\n",
    "df_grouped11=df.groupby(['year', 'quarter'])['smoksupp'].sum()\n",
    "\n",
    "print(df_grouped1)\n"
   ]
  },
  {
   "cell_type": "code",
   "execution_count": 41,
   "metadata": {},
   "outputs": [
    {
     "name": "stdout",
     "output_type": "stream",
     "text": [
      "year  quarter\n",
      "2017  1          3.699896\n",
      "      2          4.144292\n",
      "      3          4.252660\n",
      "      4          3.942019\n",
      "2018  1          3.314638\n",
      "      2          3.580809\n",
      "      3          4.038187\n",
      "      4          3.306582\n",
      "2019  1          2.979163\n",
      "      2          3.446214\n",
      "      3          2.438504\n",
      "      4          4.247324\n",
      "2020  1          2.774924\n",
      "      2          1.699446\n",
      "      3          2.183382\n",
      "      4          1.943392\n",
      "2021  1          3.220517\n",
      "      2          2.257893\n",
      "      3          2.727477\n",
      "      4          2.582320\n",
      "Name: smoksupp, dtype: float64\n"
     ]
    }
   ],
   "source": [
    "print(df_grouped1)"
   ]
  },
  {
   "cell_type": "code",
   "execution_count": 40,
   "metadata": {},
   "outputs": [
    {
     "name": "stdout",
     "output_type": "stream",
     "text": [
      "year  quarter\n",
      "2017  1          10511.40534\n",
      "      2          12445.30798\n",
      "      3          12349.72366\n",
      "      4          11471.27665\n",
      "2018  1           9251.15471\n",
      "      2           9958.22925\n",
      "      3          11694.58931\n",
      "      4           8633.48452\n",
      "2019  1           7957.34498\n",
      "      2           9349.57936\n",
      "      3           6693.69362\n",
      "      4          10843.41890\n",
      "2020  1           9115.62516\n",
      "      2           3290.12665\n",
      "      3           5587.27458\n",
      "      4           5509.51554\n",
      "2021  1           9506.96645\n",
      "      2           7279.44725\n",
      "      3           8256.07285\n",
      "      4           7395.76364\n",
      "Name: smoksupp, dtype: float64\n"
     ]
    }
   ],
   "source": [
    "print(df_grouped11)"
   ]
  },
  {
   "cell_type": "code",
   "execution_count": 31,
   "metadata": {},
   "outputs": [
    {
     "name": "stdout",
     "output_type": "stream",
     "text": [
      "0        0.0\n",
      "1        0.0\n",
      "2        0.0\n",
      "3        0.0\n",
      "4        0.0\n",
      "        ... \n",
      "56096    0.0\n",
      "56097    0.0\n",
      "56098    0.0\n",
      "56099    0.0\n",
      "56100    0.0\n",
      "Name: smoksupp, Length: 56101, dtype: float64\n"
     ]
    }
   ],
   "source": [
    "# df_smoking = df['smoksupp'].copy()\n",
    "# print(df_smoking)\n"
   ]
  },
  {
   "cell_type": "code",
   "execution_count": 32,
   "metadata": {},
   "outputs": [
    {
     "name": "stdout",
     "output_type": "stream",
     "text": [
      "                            OLS Regression Results                            \n",
      "==============================================================================\n",
      "Dep. Variable:         df['smoksupp']   R-squared:                       0.001\n",
      "Model:                            OLS   Adj. R-squared:                  0.001\n",
      "Method:                 Least Squares   F-statistic:                     71.49\n",
      "Date:                Mon, 30 Oct 2023   Prob (F-statistic):           2.86e-17\n",
      "Time:                        08:01:05   Log-Likelihood:            -2.3200e+05\n",
      "No. Observations:               56101   AIC:                         4.640e+05\n",
      "Df Residuals:                   56099   BIC:                         4.640e+05\n",
      "Df Model:                           1                                         \n",
      "Covariance Type:            nonrobust                                         \n",
      "======================================================================================\n",
      "                         coef    std err          t      P>|t|      [0.025      0.975]\n",
      "--------------------------------------------------------------------------------------\n",
      "Intercept              2.4140      0.109     22.227      0.000       2.201       2.627\n",
      "condition1[T.True]     1.1353      0.134      8.455      0.000       0.872       1.398\n",
      "==============================================================================\n",
      "Omnibus:                    78474.712   Durbin-Watson:                   1.485\n",
      "Prob(Omnibus):                  0.000   Jarque-Bera (JB):         24636017.149\n",
      "Skew:                           8.274   Prob(JB):                         0.00\n",
      "Kurtosis:                     104.318   Cond. No.                         3.16\n",
      "==============================================================================\n",
      "\n",
      "Notes:\n",
      "[1] Standard Errors assume that the covariance matrix of the errors is correctly specified.\n"
     ]
    }
   ],
   "source": [
    "import statsmodels.formula.api as smf\n",
    "\n",
    "reg = smf.ols(formula = \"df['smoksupp'] ~ condition1\", data=df)\n",
    "results = reg.fit()\n",
    "print(results.summary())"
   ]
  },
  {
   "cell_type": "code",
   "execution_count": 33,
   "metadata": {},
   "outputs": [
    {
     "name": "stdout",
     "output_type": "stream",
     "text": [
      "                            OLS Regression Results                            \n",
      "==============================================================================\n",
      "Dep. Variable:         df['smoksupp']   R-squared:                       0.001\n",
      "Model:                            OLS   Adj. R-squared:                  0.001\n",
      "Method:                 Least Squares   F-statistic:                     52.52\n",
      "Date:                Mon, 30 Oct 2023   Prob (F-statistic):           4.31e-13\n",
      "Time:                        08:01:06   Log-Likelihood:            -2.3201e+05\n",
      "No. Observations:               56101   AIC:                         4.640e+05\n",
      "Df Residuals:                   56099   BIC:                         4.640e+05\n",
      "Df Model:                           1                                         \n",
      "Covariance Type:            nonrobust                                         \n",
      "======================================================================================\n",
      "                         coef    std err          t      P>|t|      [0.025      0.975]\n",
      "--------------------------------------------------------------------------------------\n",
      "Intercept              3.3363      0.069     48.701      0.000       3.202       3.471\n",
      "condition2[T.True]    -1.3735      0.190     -7.247      0.000      -1.745      -1.002\n",
      "==============================================================================\n",
      "Omnibus:                    78419.913   Durbin-Watson:                   1.484\n",
      "Prob(Omnibus):                  0.000   Jarque-Bera (JB):         24506333.350\n",
      "Skew:                           8.265   Prob(JB):                         0.00\n",
      "Kurtosis:                     104.047   Cond. No.                         3.02\n",
      "==============================================================================\n",
      "\n",
      "Notes:\n",
      "[1] Standard Errors assume that the covariance matrix of the errors is correctly specified.\n"
     ]
    }
   ],
   "source": [
    "reg1 = smf.ols(formula = \"df['smoksupp'] ~ condition2\", data=df)\n",
    "results1 = reg1.fit()\n",
    "print(results1.summary())"
   ]
  },
  {
   "cell_type": "code",
   "execution_count": 34,
   "metadata": {},
   "outputs": [
    {
     "name": "stdout",
     "output_type": "stream",
     "text": [
      "                            OLS Regression Results                            \n",
      "==============================================================================\n",
      "Dep. Variable:         df['smoksupp']   R-squared:                       0.000\n",
      "Model:                            OLS   Adj. R-squared:                  0.000\n",
      "Method:                 Least Squares   F-statistic:                     14.74\n",
      "Date:                Mon, 30 Oct 2023   Prob (F-statistic):           0.000123\n",
      "Time:                        08:01:07   Log-Likelihood:            -2.3203e+05\n",
      "No. Observations:               56101   AIC:                         4.641e+05\n",
      "Df Residuals:                   56099   BIC:                         4.641e+05\n",
      "Df Model:                           1                                         \n",
      "Covariance Type:            nonrobust                                         \n",
      "======================================================================================\n",
      "                         coef    std err          t      P>|t|      [0.025      0.975]\n",
      "--------------------------------------------------------------------------------------\n",
      "Intercept              3.2852      0.072     45.552      0.000       3.144       3.427\n",
      "condition3[T.True]    -0.5970      0.156     -3.839      0.000      -0.902      -0.292\n",
      "==============================================================================\n",
      "Omnibus:                    78453.842   Durbin-Watson:                   1.483\n",
      "Prob(Omnibus):                  0.000   Jarque-Bera (JB):         24556952.866\n",
      "Skew:                           8.271   Prob(JB):                         0.00\n",
      "Kurtosis:                     104.152   Cond. No.                         2.57\n",
      "==============================================================================\n",
      "\n",
      "Notes:\n",
      "[1] Standard Errors assume that the covariance matrix of the errors is correctly specified.\n"
     ]
    }
   ],
   "source": [
    "reg2 = smf.ols(formula = \"df['smoksupp'] ~ condition3\", data=df)\n",
    "results2 = reg2.fit()\n",
    "print(results2.summary())"
   ]
  },
  {
   "cell_type": "code",
   "execution_count": null,
   "metadata": {},
   "outputs": [],
   "source": []
  }
 ],
 "metadata": {
  "kernelspec": {
   "display_name": "Python 3",
   "language": "python",
   "name": "python3"
  },
  "language_info": {
   "codemirror_mode": {
    "name": "ipython",
    "version": 3
   },
   "file_extension": ".py",
   "mimetype": "text/x-python",
   "name": "python",
   "nbconvert_exporter": "python",
   "pygments_lexer": "ipython3",
   "version": "3.10.12"
  }
 },
 "nbformat": 4,
 "nbformat_minor": 2
}
